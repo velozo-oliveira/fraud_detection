{
 "cells": [
  {
   "cell_type": "markdown",
   "id": "8f96afe8",
   "metadata": {},
   "source": [
    "# 0. IMPORTS"
   ]
  },
  {
   "cell_type": "code",
   "execution_count": 1,
   "id": "a0e41e5d",
   "metadata": {},
   "outputs": [],
   "source": [
    "#data manipulation\n",
    "import pandas as pd\n",
    "import numpy as np\n",
    "import matplotlib.pyplot   as plt\n",
    "import seaborn as sns\n",
    "\n",
    "#data preparation\n",
    "from sklearn.preprocessing import RobustScaler, MinMaxScaler, LabelEncoder\n",
    "from sklearn               import model_selection as ms\n",
    "\n",
    "\n",
    "#machine learning algorithms\n",
    "from sklearn.ensemble        import RandomForestRegressor\n",
    "from sklearn.linear_model    import LogisticRegression,SGDClassifier\n",
    "from sklearn.ensemble        import RandomForestClassifier,ExtraTreesClassifier,IsolationForest\n",
    "from sklearn.svm             import SVC\n",
    "\n",
    "#metrics\n",
    "from sklearn.metrics         import accuracy_score, classification_report,cohen_kappa_score,recall_score,f1_score,roc_auc_score, plot_precision_recall_curve, precision_score,roc_curve\n",
    "from sklearn.metrics         import classification_report,confusion_matrix,accuracy_score, roc_curve, auc\n",
    "from scikitplot              import metrics      as mt\n",
    "\n",
    "#feature selection\n",
    "from boruta                import BorutaPy\n",
    "\n",
    "\n",
    "from IPython.display       import HTML\n",
    "from IPython.display       import Image\n",
    "\n",
    "\n",
    "#auxiliar packages\n",
    "import pickle\n",
    "import warnings\n",
    "import inflection\n"
   ]
  },
  {
   "cell_type": "markdown",
   "id": "b75bbad9",
   "metadata": {},
   "source": [
    "## 0.1. Helper Functions"
   ]
  },
  {
   "cell_type": "code",
   "execution_count": 2,
   "id": "3f944ea6",
   "metadata": {},
   "outputs": [],
   "source": [
    "pd.set_option('float_format', '{:.3f}'.format)\n",
    "\n",
    "\n",
    "\n",
    "def jupyter_settings():\n",
    "    %matplotlib inline\n",
    "    %pylab inline\n",
    "    \n",
    "    plt.style.use( 'bmh' )\n",
    "    plt.rcParams['figure.figsize'] = [25, 12]\n",
    "    plt.rcParams['font.size'] = 24\n",
    "    \n",
    "    sns.set()\n",
    "    "
   ]
  },
  {
   "cell_type": "code",
   "execution_count": 3,
   "id": "875def9e",
   "metadata": {},
   "outputs": [
    {
     "name": "stdout",
     "output_type": "stream",
     "text": [
      "%pylab is deprecated, use %matplotlib inline and import the required libraries.\n",
      "Populating the interactive namespace from numpy and matplotlib\n"
     ]
    }
   ],
   "source": [
    "jupyter_settings()\n",
    "warnings.filterwarnings('ignore')"
   ]
  },
  {
   "cell_type": "markdown",
   "id": "7aa6c228",
   "metadata": {},
   "source": [
    "## 0.2. Loading Data"
   ]
  },
  {
   "cell_type": "code",
   "execution_count": 4,
   "id": "5bcf2908",
   "metadata": {},
   "outputs": [],
   "source": [
    "data_raw = pd.read_csv('/home/rafael/Repos/fraud_detection/data/data_fraud.csv')"
   ]
  },
  {
   "cell_type": "code",
   "execution_count": 5,
   "id": "3082817f",
   "metadata": {},
   "outputs": [
    {
     "data": {
      "text/html": [
       "<div>\n",
       "<style scoped>\n",
       "    .dataframe tbody tr th:only-of-type {\n",
       "        vertical-align: middle;\n",
       "    }\n",
       "\n",
       "    .dataframe tbody tr th {\n",
       "        vertical-align: top;\n",
       "    }\n",
       "\n",
       "    .dataframe thead th {\n",
       "        text-align: right;\n",
       "    }\n",
       "</style>\n",
       "<table border=\"1\" class=\"dataframe\">\n",
       "  <thead>\n",
       "    <tr style=\"text-align: right;\">\n",
       "      <th></th>\n",
       "      <th>step</th>\n",
       "      <th>type</th>\n",
       "      <th>amount</th>\n",
       "      <th>nameOrig</th>\n",
       "      <th>oldbalanceOrg</th>\n",
       "      <th>newbalanceOrig</th>\n",
       "      <th>nameDest</th>\n",
       "      <th>oldbalanceDest</th>\n",
       "      <th>newbalanceDest</th>\n",
       "      <th>isFraud</th>\n",
       "      <th>isFlaggedFraud</th>\n",
       "    </tr>\n",
       "  </thead>\n",
       "  <tbody>\n",
       "    <tr>\n",
       "      <th>0</th>\n",
       "      <td>1</td>\n",
       "      <td>PAYMENT</td>\n",
       "      <td>9839.640</td>\n",
       "      <td>C1231006815</td>\n",
       "      <td>170136.000</td>\n",
       "      <td>160296.360</td>\n",
       "      <td>M1979787155</td>\n",
       "      <td>0.000</td>\n",
       "      <td>0.000</td>\n",
       "      <td>0</td>\n",
       "      <td>0</td>\n",
       "    </tr>\n",
       "    <tr>\n",
       "      <th>1</th>\n",
       "      <td>1</td>\n",
       "      <td>PAYMENT</td>\n",
       "      <td>1864.280</td>\n",
       "      <td>C1666544295</td>\n",
       "      <td>21249.000</td>\n",
       "      <td>19384.720</td>\n",
       "      <td>M2044282225</td>\n",
       "      <td>0.000</td>\n",
       "      <td>0.000</td>\n",
       "      <td>0</td>\n",
       "      <td>0</td>\n",
       "    </tr>\n",
       "    <tr>\n",
       "      <th>2</th>\n",
       "      <td>1</td>\n",
       "      <td>TRANSFER</td>\n",
       "      <td>181.000</td>\n",
       "      <td>C1305486145</td>\n",
       "      <td>181.000</td>\n",
       "      <td>0.000</td>\n",
       "      <td>C553264065</td>\n",
       "      <td>0.000</td>\n",
       "      <td>0.000</td>\n",
       "      <td>1</td>\n",
       "      <td>0</td>\n",
       "    </tr>\n",
       "    <tr>\n",
       "      <th>3</th>\n",
       "      <td>1</td>\n",
       "      <td>CASH_OUT</td>\n",
       "      <td>181.000</td>\n",
       "      <td>C840083671</td>\n",
       "      <td>181.000</td>\n",
       "      <td>0.000</td>\n",
       "      <td>C38997010</td>\n",
       "      <td>21182.000</td>\n",
       "      <td>0.000</td>\n",
       "      <td>1</td>\n",
       "      <td>0</td>\n",
       "    </tr>\n",
       "    <tr>\n",
       "      <th>4</th>\n",
       "      <td>1</td>\n",
       "      <td>PAYMENT</td>\n",
       "      <td>11668.140</td>\n",
       "      <td>C2048537720</td>\n",
       "      <td>41554.000</td>\n",
       "      <td>29885.860</td>\n",
       "      <td>M1230701703</td>\n",
       "      <td>0.000</td>\n",
       "      <td>0.000</td>\n",
       "      <td>0</td>\n",
       "      <td>0</td>\n",
       "    </tr>\n",
       "  </tbody>\n",
       "</table>\n",
       "</div>"
      ],
      "text/plain": [
       "   step      type    amount     nameOrig  oldbalanceOrg  newbalanceOrig  \\\n",
       "0     1   PAYMENT  9839.640  C1231006815     170136.000      160296.360   \n",
       "1     1   PAYMENT  1864.280  C1666544295      21249.000       19384.720   \n",
       "2     1  TRANSFER   181.000  C1305486145        181.000           0.000   \n",
       "3     1  CASH_OUT   181.000   C840083671        181.000           0.000   \n",
       "4     1   PAYMENT 11668.140  C2048537720      41554.000       29885.860   \n",
       "\n",
       "      nameDest  oldbalanceDest  newbalanceDest  isFraud  isFlaggedFraud  \n",
       "0  M1979787155           0.000           0.000        0               0  \n",
       "1  M2044282225           0.000           0.000        0               0  \n",
       "2   C553264065           0.000           0.000        1               0  \n",
       "3    C38997010       21182.000           0.000        1               0  \n",
       "4  M1230701703           0.000           0.000        0               0  "
      ]
     },
     "execution_count": 5,
     "metadata": {},
     "output_type": "execute_result"
    }
   ],
   "source": [
    "data_raw.head()"
   ]
  },
  {
   "cell_type": "code",
   "execution_count": 6,
   "id": "e7fb2ddd",
   "metadata": {},
   "outputs": [
    {
     "data": {
      "text/plain": [
       "(6362620, 11)"
      ]
     },
     "execution_count": 6,
     "metadata": {},
     "output_type": "execute_result"
    }
   ],
   "source": [
    "data_raw.shape"
   ]
  },
  {
   "cell_type": "code",
   "execution_count": 7,
   "id": "8dbb7abe",
   "metadata": {},
   "outputs": [
    {
     "data": {
      "text/plain": [
       "CASH_OUT   0.352\n",
       "PAYMENT    0.338\n",
       "CASH_IN    0.220\n",
       "TRANSFER   0.084\n",
       "DEBIT      0.007\n",
       "Name: type, dtype: float64"
      ]
     },
     "execution_count": 7,
     "metadata": {},
     "output_type": "execute_result"
    }
   ],
   "source": [
    "data_raw['type'].value_counts(normalize=True)"
   ]
  },
  {
   "cell_type": "markdown",
   "id": "2b086f25",
   "metadata": {},
   "source": [
    "## 0.3 Data Sampling"
   ]
  },
  {
   "cell_type": "code",
   "execution_count": 8,
   "id": "5a611ee0",
   "metadata": {},
   "outputs": [],
   "source": [
    "#data_raw_is_fraud\n",
    "data_raw_fraud = data_raw[data_raw['isFraud'] == 1]\n",
    "\n",
    "#data_raw_not_fraud\n",
    "data_raw_not_fraud = data_raw[data_raw['isFraud'] == 0].sample(1000000)\n",
    "\n",
    "#concat data\n",
    "data_raw_sample = pd.concat([data_raw_fraud,data_raw_not_fraud], axis = 0)"
   ]
  },
  {
   "cell_type": "code",
   "execution_count": 9,
   "id": "b6c78bae",
   "metadata": {},
   "outputs": [
    {
     "data": {
      "text/html": [
       "<div>\n",
       "<style scoped>\n",
       "    .dataframe tbody tr th:only-of-type {\n",
       "        vertical-align: middle;\n",
       "    }\n",
       "\n",
       "    .dataframe tbody tr th {\n",
       "        vertical-align: top;\n",
       "    }\n",
       "\n",
       "    .dataframe thead th {\n",
       "        text-align: right;\n",
       "    }\n",
       "</style>\n",
       "<table border=\"1\" class=\"dataframe\">\n",
       "  <thead>\n",
       "    <tr style=\"text-align: right;\">\n",
       "      <th></th>\n",
       "      <th>step</th>\n",
       "      <th>type</th>\n",
       "      <th>amount</th>\n",
       "      <th>nameOrig</th>\n",
       "      <th>oldbalanceOrg</th>\n",
       "      <th>newbalanceOrig</th>\n",
       "      <th>nameDest</th>\n",
       "      <th>oldbalanceDest</th>\n",
       "      <th>newbalanceDest</th>\n",
       "      <th>isFraud</th>\n",
       "      <th>isFlaggedFraud</th>\n",
       "    </tr>\n",
       "  </thead>\n",
       "  <tbody>\n",
       "    <tr>\n",
       "      <th>0</th>\n",
       "      <td>1</td>\n",
       "      <td>TRANSFER</td>\n",
       "      <td>181.000</td>\n",
       "      <td>C1305486145</td>\n",
       "      <td>181.000</td>\n",
       "      <td>0.000</td>\n",
       "      <td>C553264065</td>\n",
       "      <td>0.000</td>\n",
       "      <td>0.000</td>\n",
       "      <td>1</td>\n",
       "      <td>0</td>\n",
       "    </tr>\n",
       "    <tr>\n",
       "      <th>1</th>\n",
       "      <td>1</td>\n",
       "      <td>CASH_OUT</td>\n",
       "      <td>181.000</td>\n",
       "      <td>C840083671</td>\n",
       "      <td>181.000</td>\n",
       "      <td>0.000</td>\n",
       "      <td>C38997010</td>\n",
       "      <td>21182.000</td>\n",
       "      <td>0.000</td>\n",
       "      <td>1</td>\n",
       "      <td>0</td>\n",
       "    </tr>\n",
       "    <tr>\n",
       "      <th>2</th>\n",
       "      <td>1</td>\n",
       "      <td>TRANSFER</td>\n",
       "      <td>2806.000</td>\n",
       "      <td>C1420196421</td>\n",
       "      <td>2806.000</td>\n",
       "      <td>0.000</td>\n",
       "      <td>C972765878</td>\n",
       "      <td>0.000</td>\n",
       "      <td>0.000</td>\n",
       "      <td>1</td>\n",
       "      <td>0</td>\n",
       "    </tr>\n",
       "    <tr>\n",
       "      <th>3</th>\n",
       "      <td>1</td>\n",
       "      <td>CASH_OUT</td>\n",
       "      <td>2806.000</td>\n",
       "      <td>C2101527076</td>\n",
       "      <td>2806.000</td>\n",
       "      <td>0.000</td>\n",
       "      <td>C1007251739</td>\n",
       "      <td>26202.000</td>\n",
       "      <td>0.000</td>\n",
       "      <td>1</td>\n",
       "      <td>0</td>\n",
       "    </tr>\n",
       "    <tr>\n",
       "      <th>4</th>\n",
       "      <td>1</td>\n",
       "      <td>TRANSFER</td>\n",
       "      <td>20128.000</td>\n",
       "      <td>C137533655</td>\n",
       "      <td>20128.000</td>\n",
       "      <td>0.000</td>\n",
       "      <td>C1848415041</td>\n",
       "      <td>0.000</td>\n",
       "      <td>0.000</td>\n",
       "      <td>1</td>\n",
       "      <td>0</td>\n",
       "    </tr>\n",
       "  </tbody>\n",
       "</table>\n",
       "</div>"
      ],
      "text/plain": [
       "   step      type    amount     nameOrig  oldbalanceOrg  newbalanceOrig  \\\n",
       "0     1  TRANSFER   181.000  C1305486145        181.000           0.000   \n",
       "1     1  CASH_OUT   181.000   C840083671        181.000           0.000   \n",
       "2     1  TRANSFER  2806.000  C1420196421       2806.000           0.000   \n",
       "3     1  CASH_OUT  2806.000  C2101527076       2806.000           0.000   \n",
       "4     1  TRANSFER 20128.000   C137533655      20128.000           0.000   \n",
       "\n",
       "      nameDest  oldbalanceDest  newbalanceDest  isFraud  isFlaggedFraud  \n",
       "0   C553264065           0.000           0.000        1               0  \n",
       "1    C38997010       21182.000           0.000        1               0  \n",
       "2   C972765878           0.000           0.000        1               0  \n",
       "3  C1007251739       26202.000           0.000        1               0  \n",
       "4  C1848415041           0.000           0.000        1               0  "
      ]
     },
     "execution_count": 9,
     "metadata": {},
     "output_type": "execute_result"
    }
   ],
   "source": [
    "data_raw_sample.reset_index(drop = True).head()"
   ]
  },
  {
   "cell_type": "markdown",
   "id": "34740a3f",
   "metadata": {},
   "source": [
    "# 1. DATA DESCRIPTION"
   ]
  },
  {
   "cell_type": "code",
   "execution_count": 10,
   "id": "6c22d136",
   "metadata": {},
   "outputs": [],
   "source": [
    "df1 = data_raw_sample.copy()"
   ]
  },
  {
   "cell_type": "markdown",
   "id": "d3bf24a9",
   "metadata": {},
   "source": [
    "* **step** - maps a unit of time in the real world. In this case 1 step is 1 hour of time. Total steps 744 (30 days simulation).\n",
    "* **type** - CASH-IN, CASH-OUT, DEBIT, PAYMENT and TRANSFER.\n",
    "* **amount** - amount of the transaction in local currency.\n",
    "* **nameOrig** - customer who started the transaction\n",
    "* **oldbalanceOrg** - initial balance before the transaction\n",
    "* **newbalanceOrig** - new balance after the transaction\n",
    "* **nameDest** - customer who is the recipient of the transaction\n",
    "* **oldbalanceDest** - initial balance recipient before the transaction. Note that there is not information for customers that start with M (Merchants).\n",
    "* **newbalanceDest** - new balance recipient after the transaction. Note that there is not information for customers that start with M (Merchants).\n",
    "* **isFraud** - This is the transactions made by the fraudulent agents inside the simulation. In this specific dataset the fraudulent behavior of the agents aims to profit by taking control or customers accounts and try to empty the funds by transferring to another account and then cashing out of the system.\n",
    "* **isFlaggedFraud** - The business model aims to control massive transfers from one account to another and flags illegal attempts. An illegal attempt in this dataset is an attempt to transfer more than 200.000 in a single transaction.\n",
    "\n"
   ]
  },
  {
   "cell_type": "markdown",
   "id": "e7d7f50a",
   "metadata": {},
   "source": [
    "## 1.1. Rename Columns"
   ]
  },
  {
   "cell_type": "code",
   "execution_count": 11,
   "id": "7311f4e1",
   "metadata": {},
   "outputs": [
    {
     "data": {
      "text/plain": [
       "Index(['step', 'type', 'amount', 'nameOrig', 'oldbalanceOrg', 'newbalanceOrig',\n",
       "       'nameDest', 'oldbalanceDest', 'newbalanceDest', 'isFraud',\n",
       "       'isFlaggedFraud'],\n",
       "      dtype='object')"
      ]
     },
     "execution_count": 11,
     "metadata": {},
     "output_type": "execute_result"
    }
   ],
   "source": [
    "df1.columns"
   ]
  },
  {
   "cell_type": "code",
   "execution_count": 12,
   "id": "c91d5efd",
   "metadata": {},
   "outputs": [
    {
     "data": {
      "text/plain": [
       "Index(['step', 'payment_type', 'amount', 'name_orig', 'oldbalance_orig',\n",
       "       'newbalance_orig', 'name_dest', 'oldbalance_dest', 'newbalance_dest',\n",
       "       'is_fraud', 'is_flagged_fraud'],\n",
       "      dtype='object')"
      ]
     },
     "execution_count": 12,
     "metadata": {},
     "output_type": "execute_result"
    }
   ],
   "source": [
    "# df1.columns\n",
    "\n",
    "cols_old = ['step', 'paymentType', 'amount', 'nameOrig', 'oldbalanceOrig', 'newbalanceOrig',\n",
    "       'nameDest', 'oldbalanceDest', 'newbalanceDest', 'isFraud',\n",
    "       'isFlaggedFraud']\n",
    "\n",
    "#snakecase = lambda x: x.lower()\n",
    "snakecase = lambda x: inflection.underscore(x)\n",
    "\n",
    "cols_new = list((map(snakecase,cols_old)))\n",
    "\n",
    "# rename\n",
    "df1.columns = cols_new\n",
    "df1.columns"
   ]
  },
  {
   "cell_type": "markdown",
   "id": "e03d3bfb",
   "metadata": {},
   "source": [
    "## 1.1. Data Dimensions\n"
   ]
  },
  {
   "cell_type": "code",
   "execution_count": 13,
   "id": "51c52ada",
   "metadata": {},
   "outputs": [
    {
     "name": "stdout",
     "output_type": "stream",
     "text": [
      "Number of rows: 1008213\n",
      "Number of columns: 11\n"
     ]
    }
   ],
   "source": [
    "print('Number of rows: {}'. format(df1.shape[0]))\n",
    "print('Number of columns: {}'.format(df1.shape[1]))"
   ]
  },
  {
   "cell_type": "code",
   "execution_count": 14,
   "id": "f7cca5cf",
   "metadata": {},
   "outputs": [
    {
     "data": {
      "text/plain": [
       "CASH_OUT   0.353\n",
       "PAYMENT    0.336\n",
       "CASH_IN    0.218\n",
       "TRANSFER   0.087\n",
       "DEBIT      0.006\n",
       "Name: payment_type, dtype: float64"
      ]
     },
     "execution_count": 14,
     "metadata": {},
     "output_type": "execute_result"
    }
   ],
   "source": [
    "df1['payment_type'].value_counts(normalize=True)"
   ]
  },
  {
   "cell_type": "markdown",
   "id": "d53c4dce",
   "metadata": {},
   "source": [
    "\n",
    "## 1.2. Data Types\n"
   ]
  },
  {
   "cell_type": "code",
   "execution_count": 15,
   "id": "63e0f63e",
   "metadata": {},
   "outputs": [
    {
     "name": "stdout",
     "output_type": "stream",
     "text": [
      "<class 'pandas.core.frame.DataFrame'>\n",
      "Int64Index: 1008213 entries, 2 to 2458989\n",
      "Data columns (total 11 columns):\n",
      " #   Column            Non-Null Count    Dtype  \n",
      "---  ------            --------------    -----  \n",
      " 0   step              1008213 non-null  int64  \n",
      " 1   payment_type      1008213 non-null  object \n",
      " 2   amount            1008213 non-null  float64\n",
      " 3   name_orig         1008213 non-null  object \n",
      " 4   oldbalance_orig   1008213 non-null  float64\n",
      " 5   newbalance_orig   1008213 non-null  float64\n",
      " 6   name_dest         1008213 non-null  object \n",
      " 7   oldbalance_dest   1008213 non-null  float64\n",
      " 8   newbalance_dest   1008213 non-null  float64\n",
      " 9   is_fraud          1008213 non-null  int64  \n",
      " 10  is_flagged_fraud  1008213 non-null  int64  \n",
      "dtypes: float64(5), int64(3), object(3)\n",
      "memory usage: 92.3+ MB\n"
     ]
    }
   ],
   "source": [
    "df1.info()"
   ]
  },
  {
   "cell_type": "markdown",
   "id": "315a03f2",
   "metadata": {},
   "source": [
    "## 1.3. Check NA"
   ]
  },
  {
   "cell_type": "code",
   "execution_count": 16,
   "id": "16db9a31",
   "metadata": {},
   "outputs": [
    {
     "data": {
      "text/plain": [
       "step                0\n",
       "payment_type        0\n",
       "amount              0\n",
       "name_orig           0\n",
       "oldbalance_orig     0\n",
       "newbalance_orig     0\n",
       "name_dest           0\n",
       "oldbalance_dest     0\n",
       "newbalance_dest     0\n",
       "is_fraud            0\n",
       "is_flagged_fraud    0\n",
       "dtype: int64"
      ]
     },
     "execution_count": 16,
     "metadata": {},
     "output_type": "execute_result"
    }
   ],
   "source": [
    "df1.isna().sum()"
   ]
  },
  {
   "cell_type": "markdown",
   "id": "1cdbe10e",
   "metadata": {},
   "source": [
    "\n",
    "## 1.4. Variable Response\n"
   ]
  },
  {
   "cell_type": "code",
   "execution_count": 17,
   "id": "ad308439",
   "metadata": {},
   "outputs": [
    {
     "data": {
      "text/plain": [
       "0   0.992\n",
       "1   0.008\n",
       "Name: is_fraud, dtype: float64"
      ]
     },
     "execution_count": 17,
     "metadata": {},
     "output_type": "execute_result"
    }
   ],
   "source": [
    "df1['is_fraud'].value_counts(normalize = True)"
   ]
  },
  {
   "cell_type": "markdown",
   "id": "9614b5a4",
   "metadata": {},
   "source": [
    "## 1.5 Descriptive Statistical Analysis"
   ]
  },
  {
   "cell_type": "code",
   "execution_count": 18,
   "id": "787626bd",
   "metadata": {},
   "outputs": [
    {
     "data": {
      "text/html": [
       "<div>\n",
       "<style scoped>\n",
       "    .dataframe tbody tr th:only-of-type {\n",
       "        vertical-align: middle;\n",
       "    }\n",
       "\n",
       "    .dataframe tbody tr th {\n",
       "        vertical-align: top;\n",
       "    }\n",
       "\n",
       "    .dataframe thead th {\n",
       "        text-align: right;\n",
       "    }\n",
       "</style>\n",
       "<table border=\"1\" class=\"dataframe\">\n",
       "  <thead>\n",
       "    <tr style=\"text-align: right;\">\n",
       "      <th></th>\n",
       "      <th>step</th>\n",
       "      <th>amount</th>\n",
       "      <th>oldbalance_orig</th>\n",
       "      <th>newbalance_orig</th>\n",
       "      <th>oldbalance_dest</th>\n",
       "      <th>newbalance_dest</th>\n",
       "      <th>is_fraud</th>\n",
       "      <th>is_flagged_fraud</th>\n",
       "    </tr>\n",
       "  </thead>\n",
       "  <tbody>\n",
       "    <tr>\n",
       "      <th>1377717</th>\n",
       "      <td>138</td>\n",
       "      <td>87931.790</td>\n",
       "      <td>2246.000</td>\n",
       "      <td>90177.790</td>\n",
       "      <td>1315736.660</td>\n",
       "      <td>1227804.870</td>\n",
       "      <td>0</td>\n",
       "      <td>0</td>\n",
       "    </tr>\n",
       "    <tr>\n",
       "      <th>5486586</th>\n",
       "      <td>380</td>\n",
       "      <td>174331.830</td>\n",
       "      <td>35242.000</td>\n",
       "      <td>0.000</td>\n",
       "      <td>0.000</td>\n",
       "      <td>174331.830</td>\n",
       "      <td>0</td>\n",
       "      <td>0</td>\n",
       "    </tr>\n",
       "  </tbody>\n",
       "</table>\n",
       "</div>"
      ],
      "text/plain": [
       "         step     amount  oldbalance_orig  newbalance_orig  oldbalance_dest  \\\n",
       "1377717   138  87931.790         2246.000        90177.790      1315736.660   \n",
       "5486586   380 174331.830        35242.000            0.000            0.000   \n",
       "\n",
       "         newbalance_dest  is_fraud  is_flagged_fraud  \n",
       "1377717      1227804.870         0                 0  \n",
       "5486586       174331.830         0                 0  "
      ]
     },
     "execution_count": 18,
     "metadata": {},
     "output_type": "execute_result"
    }
   ],
   "source": [
    "num_attributes = df1.select_dtypes( include = ('int64','float64'))\n",
    "cat_attributes = df1.select_dtypes( exclude = ('int64','float64'))\n",
    "num_attributes.sample(2)"
   ]
  },
  {
   "cell_type": "markdown",
   "id": "a6035b88",
   "metadata": {},
   "source": [
    "### 1.5.1. Numerical Attributes"
   ]
  },
  {
   "cell_type": "code",
   "execution_count": 19,
   "id": "960c6ef0",
   "metadata": {},
   "outputs": [
    {
     "data": {
      "text/html": [
       "<div>\n",
       "<style scoped>\n",
       "    .dataframe tbody tr th:only-of-type {\n",
       "        vertical-align: middle;\n",
       "    }\n",
       "\n",
       "    .dataframe tbody tr th {\n",
       "        vertical-align: top;\n",
       "    }\n",
       "\n",
       "    .dataframe thead th {\n",
       "        text-align: right;\n",
       "    }\n",
       "</style>\n",
       "<table border=\"1\" class=\"dataframe\">\n",
       "  <thead>\n",
       "    <tr style=\"text-align: right;\">\n",
       "      <th></th>\n",
       "      <th>mean</th>\n",
       "      <th>std</th>\n",
       "      <th>min</th>\n",
       "      <th>25%</th>\n",
       "      <th>50%</th>\n",
       "      <th>75%</th>\n",
       "      <th>max</th>\n",
       "    </tr>\n",
       "  </thead>\n",
       "  <tbody>\n",
       "    <tr>\n",
       "      <th>step</th>\n",
       "      <td>244.140</td>\n",
       "      <td>143.353</td>\n",
       "      <td>1.000</td>\n",
       "      <td>156.000</td>\n",
       "      <td>240.000</td>\n",
       "      <td>336.000</td>\n",
       "      <td>743.000</td>\n",
       "    </tr>\n",
       "    <tr>\n",
       "      <th>amount</th>\n",
       "      <td>189158.234</td>\n",
       "      <td>648552.003</td>\n",
       "      <td>0.000</td>\n",
       "      <td>13541.110</td>\n",
       "      <td>75963.460</td>\n",
       "      <td>211028.350</td>\n",
       "      <td>69337316.270</td>\n",
       "    </tr>\n",
       "    <tr>\n",
       "      <th>oldbalance_orig</th>\n",
       "      <td>839042.362</td>\n",
       "      <td>2899164.411</td>\n",
       "      <td>0.000</td>\n",
       "      <td>0.000</td>\n",
       "      <td>14819.000</td>\n",
       "      <td>111256.000</td>\n",
       "      <td>59585040.370</td>\n",
       "    </tr>\n",
       "    <tr>\n",
       "      <th>newbalance_orig</th>\n",
       "      <td>850045.192</td>\n",
       "      <td>2924146.016</td>\n",
       "      <td>0.000</td>\n",
       "      <td>0.000</td>\n",
       "      <td>0.000</td>\n",
       "      <td>142010.750</td>\n",
       "      <td>49585040.370</td>\n",
       "    </tr>\n",
       "    <tr>\n",
       "      <th>oldbalance_dest</th>\n",
       "      <td>1096558.806</td>\n",
       "      <td>3368381.336</td>\n",
       "      <td>0.000</td>\n",
       "      <td>0.000</td>\n",
       "      <td>129308.880</td>\n",
       "      <td>936861.500</td>\n",
       "      <td>355185537.060</td>\n",
       "    </tr>\n",
       "    <tr>\n",
       "      <th>newbalance_dest</th>\n",
       "      <td>1225557.321</td>\n",
       "      <td>3661112.507</td>\n",
       "      <td>0.000</td>\n",
       "      <td>0.000</td>\n",
       "      <td>213941.020</td>\n",
       "      <td>1111238.000</td>\n",
       "      <td>355380483.530</td>\n",
       "    </tr>\n",
       "    <tr>\n",
       "      <th>is_fraud</th>\n",
       "      <td>0.008</td>\n",
       "      <td>0.090</td>\n",
       "      <td>0.000</td>\n",
       "      <td>0.000</td>\n",
       "      <td>0.000</td>\n",
       "      <td>0.000</td>\n",
       "      <td>1.000</td>\n",
       "    </tr>\n",
       "    <tr>\n",
       "      <th>is_flagged_fraud</th>\n",
       "      <td>0.000</td>\n",
       "      <td>0.004</td>\n",
       "      <td>0.000</td>\n",
       "      <td>0.000</td>\n",
       "      <td>0.000</td>\n",
       "      <td>0.000</td>\n",
       "      <td>1.000</td>\n",
       "    </tr>\n",
       "  </tbody>\n",
       "</table>\n",
       "</div>"
      ],
      "text/plain": [
       "                        mean         std   min       25%        50%  \\\n",
       "step                 244.140     143.353 1.000   156.000    240.000   \n",
       "amount            189158.234  648552.003 0.000 13541.110  75963.460   \n",
       "oldbalance_orig   839042.362 2899164.411 0.000     0.000  14819.000   \n",
       "newbalance_orig   850045.192 2924146.016 0.000     0.000      0.000   \n",
       "oldbalance_dest  1096558.806 3368381.336 0.000     0.000 129308.880   \n",
       "newbalance_dest  1225557.321 3661112.507 0.000     0.000 213941.020   \n",
       "is_fraud               0.008       0.090 0.000     0.000      0.000   \n",
       "is_flagged_fraud       0.000       0.004 0.000     0.000      0.000   \n",
       "\n",
       "                         75%           max  \n",
       "step                 336.000       743.000  \n",
       "amount            211028.350  69337316.270  \n",
       "oldbalance_orig   111256.000  59585040.370  \n",
       "newbalance_orig   142010.750  49585040.370  \n",
       "oldbalance_dest   936861.500 355185537.060  \n",
       "newbalance_dest  1111238.000 355380483.530  \n",
       "is_fraud               0.000         1.000  \n",
       "is_flagged_fraud       0.000         1.000  "
      ]
     },
     "execution_count": 19,
     "metadata": {},
     "output_type": "execute_result"
    }
   ],
   "source": [
    "num_attributes.describe().T.drop(columns = 'count')"
   ]
  },
  {
   "cell_type": "markdown",
   "id": "58e20942",
   "metadata": {},
   "source": [
    "**Descriptive Analysis Summary**\n",
    "\n",
    "*Balance*\n",
    "* None of the balances have negative numbers \n",
    "* The initial balance before the transaction (oldbalance_orig) ranges from 0 to aprox 59 mi. Mean = 839,042.7. **25% of the observations are equal to 0**. 75% of the observations are up to the value of 111,256\n",
    "* The initial balance after the transaction (newbalance_orig) ranges from 0 to aprox 49.5 mi. Mean = 850,045. **50% of the observations are equal to 0**. 75% of the observations are up to the value of 142,010\n",
    "\n",
    "\n",
    "* The initial balance recipient before the transaction (oldbalance_dest) ranges from 0 to more than 355 Million. Mean = 1,096,558. 25% of the observations are equal to zero. 75% of the observations are up to the value of 936,861\n",
    "* The new balance recipient after the transaction (newbalance_dest) ranges from zero to more than 355 Million. Mean = 1,225,557. **25% of the observations are equal to zero** - it can be either from merchant or from fraudulent agent behaviour (cashing out of the system). 75% of the observations are up to the value of 1,111,238\n",
    "\n"
   ]
  },
  {
   "cell_type": "markdown",
   "id": "00f01431",
   "metadata": {},
   "source": [
    "*Transaction Amount*\n",
    "* Transaction amount ranges from 0 to more than 69 mi, Mean = 189,158. The minimum value is equal to zero.\n"
   ]
  },
  {
   "cell_type": "markdown",
   "id": "542eaacb",
   "metadata": {},
   "source": [
    "# 2.0. FEATURE ENGINEERING"
   ]
  },
  {
   "cell_type": "code",
   "execution_count": 20,
   "id": "e54c2c72",
   "metadata": {},
   "outputs": [],
   "source": [
    "df2 = df1.copy()"
   ]
  },
  {
   "cell_type": "markdown",
   "id": "abadf16e",
   "metadata": {},
   "source": [
    "## 2.1. Account Type"
   ]
  },
  {
   "cell_type": "code",
   "execution_count": 21,
   "id": "6cd3e094",
   "metadata": {},
   "outputs": [
    {
     "data": {
      "text/plain": [
       "array(['C'], dtype=object)"
      ]
     },
     "execution_count": 21,
     "metadata": {},
     "output_type": "execute_result"
    }
   ],
   "source": [
    "account_type_or = df2['name_orig'].astype(str)\n",
    "account_type_or_init = account_type_or.str[:1]\n",
    "account_type_or_init.unique()"
   ]
  },
  {
   "cell_type": "code",
   "execution_count": 22,
   "id": "35347b61",
   "metadata": {},
   "outputs": [
    {
     "data": {
      "text/plain": [
       "array(['C', 'M'], dtype=object)"
      ]
     },
     "execution_count": 22,
     "metadata": {},
     "output_type": "execute_result"
    }
   ],
   "source": [
    "account_type_dest = df2['name_dest'].astype(str)\n",
    "account_type_dest_init = account_type_dest.str[:1]\n",
    "account_type_dest_init.unique()"
   ]
  },
  {
   "cell_type": "code",
   "execution_count": 23,
   "id": "16f006ed",
   "metadata": {},
   "outputs": [],
   "source": [
    "#client\n",
    "df2['client_orig'] = df2['name_orig'].apply(lambda x: 'M' if \"M\" in x else \"C\")\n",
    "df2['client_dest'] = df2['name_dest'].apply(lambda x: \"M\" if \"M\" in x else \"C\")\n",
    "\n",
    "#type\n",
    "df2[\"transaction_type\"] = np.nan # initializing feature column\n",
    "\n",
    "# filling feature column\n",
    "df2.loc[df2.client_orig.str.contains('C') & df2.client_orig.str.contains('C'),\"transaction_type\"] = \"CC\" \n",
    "df2.loc[df2.client_orig.str.contains('C') & df2.client_dest.str.contains('M'),\"transaction_type\"] = \"CM\""
   ]
  },
  {
   "cell_type": "markdown",
   "id": "d0c25233",
   "metadata": {},
   "source": [
    "## 2.2. Account Balance"
   ]
  },
  {
   "cell_type": "code",
   "execution_count": 24,
   "id": "81024022",
   "metadata": {},
   "outputs": [
    {
     "name": "stdout",
     "output_type": "stream",
     "text": [
      "14.49 of all origin balance values are correct\n"
     ]
    }
   ],
   "source": [
    "#checking orig and dest account balance before and after transaction\n",
    "origin_check = ( df2['newbalance_orig'] - df2['amount'] ) == df2['oldbalance_orig']\n",
    "print('{} of all origin balance values are correct'.format(round((origin_check.sum()/len(df2))*100,2)))"
   ]
  },
  {
   "cell_type": "code",
   "execution_count": 25,
   "id": "73399747",
   "metadata": {},
   "outputs": [
    {
     "name": "stdout",
     "output_type": "stream",
     "text": [
      "25.64 of all destination balance values are correct\n"
     ]
    }
   ],
   "source": [
    "dest_check = ( df2['oldbalance_dest'] + df2['amount'] ) == df2['newbalance_dest']\n",
    "print('{} of all destination balance values are correct'.format(round((dest_check.sum()/len(df2))*100,2)))"
   ]
  },
  {
   "cell_type": "markdown",
   "id": "e1a8062e",
   "metadata": {},
   "source": [
    "**Hypothesis**: Negative values are not recorded"
   ]
  },
  {
   "cell_type": "code",
   "execution_count": 26,
   "id": "ac3e1e7c",
   "metadata": {},
   "outputs": [
    {
     "data": {
      "text/plain": [
       "array([], shape=(0, 14), dtype=object)"
      ]
     },
     "execution_count": 26,
     "metadata": {},
     "output_type": "execute_result"
    }
   ],
   "source": [
    "negative = df2.loc[df2[\"oldbalance_orig\"]<0].values\n",
    "negative"
   ]
  },
  {
   "cell_type": "code",
   "execution_count": 27,
   "id": "d52878e5",
   "metadata": {},
   "outputs": [
    {
     "data": {
      "text/plain": [
       "0.6370985099378802"
      ]
     },
     "execution_count": 27,
     "metadata": {},
     "output_type": "execute_result"
    }
   ],
   "source": [
    "num_amt_oldorig = sum(df2[\"amount\"] > df2[\"oldbalance_orig\"]) / len(df2)\n",
    "num_amt_oldorig"
   ]
  },
  {
   "cell_type": "code",
   "execution_count": 28,
   "id": "171cb943",
   "metadata": {},
   "outputs": [],
   "source": [
    "#Adjusted account balance\n",
    "df2['adjusted_newbalance_orig'] = df2['oldbalance_orig'] - df2['amount'] \n",
    "df2['adjusted_newbalance_dest'] = df2['oldbalance_dest'] + df2['amount'] \n",
    "\n",
    "#error account balance\n",
    "df2['error_balance_orig'] = df2['newbalance_orig'] + df2['amount'] - df2['oldbalance_orig']\n",
    "df2['error_balance_dest'] = df2['newbalance_dest'] + df2['amount'] - df2['oldbalance_dest']"
   ]
  },
  {
   "cell_type": "markdown",
   "id": "833c63e2",
   "metadata": {},
   "source": [
    "## 2.3. Flagged Transactions"
   ]
  },
  {
   "cell_type": "code",
   "execution_count": 29,
   "id": "16630129",
   "metadata": {},
   "outputs": [
    {
     "name": "stdout",
     "output_type": "stream",
     "text": [
      "Number of transactions flagged correctly: 16\n",
      "Number of fraudulent transactions: 8213\n"
     ]
    }
   ],
   "source": [
    "flagged = df2[df2[\"is_flagged_fraud\"] == 1]\n",
    "flagged_correctly = sum(flagged[\"is_fraud\"] == 1)\n",
    "print('Number of transactions flagged correctly: {}'.format(flagged_correctly))\n",
    "print('Number of fraudulent transactions: {}'.format(df2['is_fraud'].value_counts()[1]))"
   ]
  },
  {
   "cell_type": "markdown",
   "id": "0ccb726b",
   "metadata": {},
   "source": [
    "## 2.4. Step - Day"
   ]
  },
  {
   "cell_type": "code",
   "execution_count": 30,
   "id": "7906938a",
   "metadata": {},
   "outputs": [],
   "source": [
    "df2['day'] = df2['step'].apply(lambda x: int(x/24))"
   ]
  },
  {
   "cell_type": "code",
   "execution_count": 31,
   "id": "6f3986ad",
   "metadata": {},
   "outputs": [
    {
     "data": {
      "text/html": [
       "<div>\n",
       "<style scoped>\n",
       "    .dataframe tbody tr th:only-of-type {\n",
       "        vertical-align: middle;\n",
       "    }\n",
       "\n",
       "    .dataframe tbody tr th {\n",
       "        vertical-align: top;\n",
       "    }\n",
       "\n",
       "    .dataframe thead th {\n",
       "        text-align: right;\n",
       "    }\n",
       "</style>\n",
       "<table border=\"1\" class=\"dataframe\">\n",
       "  <thead>\n",
       "    <tr style=\"text-align: right;\">\n",
       "      <th></th>\n",
       "      <th>step</th>\n",
       "      <th>payment_type</th>\n",
       "      <th>amount</th>\n",
       "      <th>name_orig</th>\n",
       "      <th>oldbalance_orig</th>\n",
       "      <th>newbalance_orig</th>\n",
       "      <th>name_dest</th>\n",
       "      <th>oldbalance_dest</th>\n",
       "      <th>newbalance_dest</th>\n",
       "      <th>is_fraud</th>\n",
       "      <th>is_flagged_fraud</th>\n",
       "      <th>client_orig</th>\n",
       "      <th>client_dest</th>\n",
       "      <th>transaction_type</th>\n",
       "      <th>adjusted_newbalance_orig</th>\n",
       "      <th>adjusted_newbalance_dest</th>\n",
       "      <th>error_balance_orig</th>\n",
       "      <th>error_balance_dest</th>\n",
       "      <th>day</th>\n",
       "    </tr>\n",
       "  </thead>\n",
       "  <tbody>\n",
       "    <tr>\n",
       "      <th>2</th>\n",
       "      <td>1</td>\n",
       "      <td>TRANSFER</td>\n",
       "      <td>181.000</td>\n",
       "      <td>C1305486145</td>\n",
       "      <td>181.000</td>\n",
       "      <td>0.000</td>\n",
       "      <td>C553264065</td>\n",
       "      <td>0.000</td>\n",
       "      <td>0.000</td>\n",
       "      <td>1</td>\n",
       "      <td>0</td>\n",
       "      <td>C</td>\n",
       "      <td>C</td>\n",
       "      <td>CC</td>\n",
       "      <td>0.000</td>\n",
       "      <td>181.000</td>\n",
       "      <td>0.000</td>\n",
       "      <td>181.000</td>\n",
       "      <td>0</td>\n",
       "    </tr>\n",
       "    <tr>\n",
       "      <th>3</th>\n",
       "      <td>1</td>\n",
       "      <td>CASH_OUT</td>\n",
       "      <td>181.000</td>\n",
       "      <td>C840083671</td>\n",
       "      <td>181.000</td>\n",
       "      <td>0.000</td>\n",
       "      <td>C38997010</td>\n",
       "      <td>21182.000</td>\n",
       "      <td>0.000</td>\n",
       "      <td>1</td>\n",
       "      <td>0</td>\n",
       "      <td>C</td>\n",
       "      <td>C</td>\n",
       "      <td>CC</td>\n",
       "      <td>0.000</td>\n",
       "      <td>21363.000</td>\n",
       "      <td>0.000</td>\n",
       "      <td>-21001.000</td>\n",
       "      <td>0</td>\n",
       "    </tr>\n",
       "    <tr>\n",
       "      <th>251</th>\n",
       "      <td>1</td>\n",
       "      <td>TRANSFER</td>\n",
       "      <td>2806.000</td>\n",
       "      <td>C1420196421</td>\n",
       "      <td>2806.000</td>\n",
       "      <td>0.000</td>\n",
       "      <td>C972765878</td>\n",
       "      <td>0.000</td>\n",
       "      <td>0.000</td>\n",
       "      <td>1</td>\n",
       "      <td>0</td>\n",
       "      <td>C</td>\n",
       "      <td>C</td>\n",
       "      <td>CC</td>\n",
       "      <td>0.000</td>\n",
       "      <td>2806.000</td>\n",
       "      <td>0.000</td>\n",
       "      <td>2806.000</td>\n",
       "      <td>0</td>\n",
       "    </tr>\n",
       "    <tr>\n",
       "      <th>252</th>\n",
       "      <td>1</td>\n",
       "      <td>CASH_OUT</td>\n",
       "      <td>2806.000</td>\n",
       "      <td>C2101527076</td>\n",
       "      <td>2806.000</td>\n",
       "      <td>0.000</td>\n",
       "      <td>C1007251739</td>\n",
       "      <td>26202.000</td>\n",
       "      <td>0.000</td>\n",
       "      <td>1</td>\n",
       "      <td>0</td>\n",
       "      <td>C</td>\n",
       "      <td>C</td>\n",
       "      <td>CC</td>\n",
       "      <td>0.000</td>\n",
       "      <td>29008.000</td>\n",
       "      <td>0.000</td>\n",
       "      <td>-23396.000</td>\n",
       "      <td>0</td>\n",
       "    </tr>\n",
       "    <tr>\n",
       "      <th>680</th>\n",
       "      <td>1</td>\n",
       "      <td>TRANSFER</td>\n",
       "      <td>20128.000</td>\n",
       "      <td>C137533655</td>\n",
       "      <td>20128.000</td>\n",
       "      <td>0.000</td>\n",
       "      <td>C1848415041</td>\n",
       "      <td>0.000</td>\n",
       "      <td>0.000</td>\n",
       "      <td>1</td>\n",
       "      <td>0</td>\n",
       "      <td>C</td>\n",
       "      <td>C</td>\n",
       "      <td>CC</td>\n",
       "      <td>0.000</td>\n",
       "      <td>20128.000</td>\n",
       "      <td>0.000</td>\n",
       "      <td>20128.000</td>\n",
       "      <td>0</td>\n",
       "    </tr>\n",
       "  </tbody>\n",
       "</table>\n",
       "</div>"
      ],
      "text/plain": [
       "     step payment_type    amount    name_orig  oldbalance_orig  \\\n",
       "2       1     TRANSFER   181.000  C1305486145          181.000   \n",
       "3       1     CASH_OUT   181.000   C840083671          181.000   \n",
       "251     1     TRANSFER  2806.000  C1420196421         2806.000   \n",
       "252     1     CASH_OUT  2806.000  C2101527076         2806.000   \n",
       "680     1     TRANSFER 20128.000   C137533655        20128.000   \n",
       "\n",
       "     newbalance_orig    name_dest  oldbalance_dest  newbalance_dest  is_fraud  \\\n",
       "2              0.000   C553264065            0.000            0.000         1   \n",
       "3              0.000    C38997010        21182.000            0.000         1   \n",
       "251            0.000   C972765878            0.000            0.000         1   \n",
       "252            0.000  C1007251739        26202.000            0.000         1   \n",
       "680            0.000  C1848415041            0.000            0.000         1   \n",
       "\n",
       "     is_flagged_fraud client_orig client_dest transaction_type  \\\n",
       "2                   0           C           C               CC   \n",
       "3                   0           C           C               CC   \n",
       "251                 0           C           C               CC   \n",
       "252                 0           C           C               CC   \n",
       "680                 0           C           C               CC   \n",
       "\n",
       "     adjusted_newbalance_orig  adjusted_newbalance_dest  error_balance_orig  \\\n",
       "2                       0.000                   181.000               0.000   \n",
       "3                       0.000                 21363.000               0.000   \n",
       "251                     0.000                  2806.000               0.000   \n",
       "252                     0.000                 29008.000               0.000   \n",
       "680                     0.000                 20128.000               0.000   \n",
       "\n",
       "     error_balance_dest  day  \n",
       "2               181.000    0  \n",
       "3            -21001.000    0  \n",
       "251            2806.000    0  \n",
       "252          -23396.000    0  \n",
       "680           20128.000    0  "
      ]
     },
     "execution_count": 31,
     "metadata": {},
     "output_type": "execute_result"
    }
   ],
   "source": [
    "df2.head()"
   ]
  },
  {
   "cell_type": "markdown",
   "id": "8eac2fa4",
   "metadata": {},
   "source": [
    "# 3.0. FILTERED VARIABLES"
   ]
  },
  {
   "cell_type": "code",
   "execution_count": 32,
   "id": "b443e54f",
   "metadata": {},
   "outputs": [],
   "source": [
    "df3 = df2.copy()"
   ]
  },
  {
   "cell_type": "code",
   "execution_count": 33,
   "id": "db79c196",
   "metadata": {},
   "outputs": [],
   "source": [
    "## 3.1. Filtered Columns\n",
    "cols_drop = ['client_orig','client_dest','name_dest','name_orig','is_flagged_fraud']\n",
    "df3 = df3.drop(cols_drop, axis=1)\n"
   ]
  },
  {
   "cell_type": "markdown",
   "id": "75ed38c7",
   "metadata": {},
   "source": [
    "# 4.0. EXPLORATORY DATA ANALYSIS"
   ]
  },
  {
   "cell_type": "code",
   "execution_count": 34,
   "id": "5151d8a5",
   "metadata": {},
   "outputs": [],
   "source": [
    "df4 = df3.copy()"
   ]
  },
  {
   "cell_type": "code",
   "execution_count": null,
   "id": "c10527e1",
   "metadata": {},
   "outputs": [],
   "source": [
    "plt.figure(figsize = (20,10))\n",
    "plt.subplot(1,3,1)\n",
    "aux_1 = df4[df4['is_fraud'] == 1]\n",
    "sns.scatterplot(x = 'day', y = 'newbalance_orig', data = aux_1)\n",
    "\n",
    "plt.subplot(1,3,2)\n",
    "aux_0 = df4[df4['is_fraud'] == 0]\n",
    "sns.scatterplot(x = 'day', y = 'newbalance_orig', data = aux_0)\n",
    "\n",
    "plt.subplot(1,3,3)\n",
    "point_bi(df4[['is_fraud']],df4[['newbalance_orig']])"
   ]
  },
  {
   "cell_type": "markdown",
   "id": "0401ed12",
   "metadata": {},
   "source": [
    "# 5.0. DATA PREPARATION"
   ]
  },
  {
   "cell_type": "code",
   "execution_count": 35,
   "id": "a5a4efb0",
   "metadata": {},
   "outputs": [],
   "source": [
    "df5 = df4.copy()"
   ]
  },
  {
   "cell_type": "code",
   "execution_count": 36,
   "id": "705195bd",
   "metadata": {},
   "outputs": [],
   "source": [
    "# Test Dataset Extraction\n",
    "X = df5.drop('is_fraud', axis = 1).copy()\n",
    "y = df5['is_fraud'].copy()\n",
    "\n",
    "x_train, x_test, y_train, y_test = ms.train_test_split(X, y, stratify = y, test_size = 0.20, random_state = 45)\n",
    "\n",
    "# df_test is a separate dataset, and will be used to perform the final evaluation of the trained model\n",
    "df_test = pd.concat([x_test, y_test], axis = 1)"
   ]
  },
  {
   "cell_type": "markdown",
   "id": "41f1433b",
   "metadata": {},
   "source": [
    "## 5.1. Numerical variables rescaling\n",
    "\n",
    "Check the presence of outliers in order to choose the best technique for our model. The techniques that will be used:\n",
    "\n",
    "*  *RobustScaler*-> Robust in the presence of outliers, therefore, in the variables that have a significant amount of outliers we will apply this technique.\n",
    "\n",
    "*  *MinMaxScaler* -> Sensitive in the presence of outliers, therefore, we will apply to our variables that do not have outliers.\n",
    "\n"
   ]
  },
  {
   "cell_type": "code",
   "execution_count": 37,
   "id": "6c693fcf",
   "metadata": {},
   "outputs": [
    {
     "data": {
      "text/html": [
       "<div>\n",
       "<style scoped>\n",
       "    .dataframe tbody tr th:only-of-type {\n",
       "        vertical-align: middle;\n",
       "    }\n",
       "\n",
       "    .dataframe tbody tr th {\n",
       "        vertical-align: top;\n",
       "    }\n",
       "\n",
       "    .dataframe thead th {\n",
       "        text-align: right;\n",
       "    }\n",
       "</style>\n",
       "<table border=\"1\" class=\"dataframe\">\n",
       "  <thead>\n",
       "    <tr style=\"text-align: right;\">\n",
       "      <th></th>\n",
       "      <th>step</th>\n",
       "      <th>amount</th>\n",
       "      <th>oldbalance_orig</th>\n",
       "      <th>newbalance_orig</th>\n",
       "      <th>oldbalance_dest</th>\n",
       "      <th>newbalance_dest</th>\n",
       "      <th>adjusted_newbalance_orig</th>\n",
       "      <th>adjusted_newbalance_dest</th>\n",
       "      <th>error_balance_orig</th>\n",
       "      <th>error_balance_dest</th>\n",
       "      <th>day</th>\n",
       "    </tr>\n",
       "  </thead>\n",
       "  <tbody>\n",
       "    <tr>\n",
       "      <th>2063729</th>\n",
       "      <td>181</td>\n",
       "      <td>38913.600</td>\n",
       "      <td>0.000</td>\n",
       "      <td>0.000</td>\n",
       "      <td>0.000</td>\n",
       "      <td>0.000</td>\n",
       "      <td>-38913.600</td>\n",
       "      <td>38913.600</td>\n",
       "      <td>38913.600</td>\n",
       "      <td>38913.600</td>\n",
       "      <td>7</td>\n",
       "    </tr>\n",
       "    <tr>\n",
       "      <th>5247746</th>\n",
       "      <td>371</td>\n",
       "      <td>180464.110</td>\n",
       "      <td>387.000</td>\n",
       "      <td>0.000</td>\n",
       "      <td>0.000</td>\n",
       "      <td>180464.110</td>\n",
       "      <td>-180077.110</td>\n",
       "      <td>180464.110</td>\n",
       "      <td>180077.110</td>\n",
       "      <td>360928.220</td>\n",
       "      <td>15</td>\n",
       "    </tr>\n",
       "    <tr>\n",
       "      <th>2659260</th>\n",
       "      <td>210</td>\n",
       "      <td>5726.170</td>\n",
       "      <td>13211.000</td>\n",
       "      <td>7484.830</td>\n",
       "      <td>0.000</td>\n",
       "      <td>0.000</td>\n",
       "      <td>7484.830</td>\n",
       "      <td>5726.170</td>\n",
       "      <td>0.000</td>\n",
       "      <td>5726.170</td>\n",
       "      <td>8</td>\n",
       "    </tr>\n",
       "    <tr>\n",
       "      <th>5624435</th>\n",
       "      <td>395</td>\n",
       "      <td>254254.210</td>\n",
       "      <td>7124833.470</td>\n",
       "      <td>7379087.680</td>\n",
       "      <td>3967427.550</td>\n",
       "      <td>3713173.340</td>\n",
       "      <td>6870579.260</td>\n",
       "      <td>4221681.760</td>\n",
       "      <td>508508.420</td>\n",
       "      <td>0.000</td>\n",
       "      <td>16</td>\n",
       "    </tr>\n",
       "    <tr>\n",
       "      <th>2357276</th>\n",
       "      <td>190</td>\n",
       "      <td>6596.110</td>\n",
       "      <td>166772.000</td>\n",
       "      <td>160175.890</td>\n",
       "      <td>0.000</td>\n",
       "      <td>0.000</td>\n",
       "      <td>160175.890</td>\n",
       "      <td>6596.110</td>\n",
       "      <td>0.000</td>\n",
       "      <td>6596.110</td>\n",
       "      <td>7</td>\n",
       "    </tr>\n",
       "    <tr>\n",
       "      <th>...</th>\n",
       "      <td>...</td>\n",
       "      <td>...</td>\n",
       "      <td>...</td>\n",
       "      <td>...</td>\n",
       "      <td>...</td>\n",
       "      <td>...</td>\n",
       "      <td>...</td>\n",
       "      <td>...</td>\n",
       "      <td>...</td>\n",
       "      <td>...</td>\n",
       "      <td>...</td>\n",
       "    </tr>\n",
       "    <tr>\n",
       "      <th>5041226</th>\n",
       "      <td>354</td>\n",
       "      <td>18424.730</td>\n",
       "      <td>13474.190</td>\n",
       "      <td>0.000</td>\n",
       "      <td>0.000</td>\n",
       "      <td>0.000</td>\n",
       "      <td>-4950.540</td>\n",
       "      <td>18424.730</td>\n",
       "      <td>4950.540</td>\n",
       "      <td>18424.730</td>\n",
       "      <td>14</td>\n",
       "    </tr>\n",
       "    <tr>\n",
       "      <th>5475436</th>\n",
       "      <td>379</td>\n",
       "      <td>563166.330</td>\n",
       "      <td>0.000</td>\n",
       "      <td>0.000</td>\n",
       "      <td>8417794.330</td>\n",
       "      <td>8980960.670</td>\n",
       "      <td>-563166.330</td>\n",
       "      <td>8980960.660</td>\n",
       "      <td>563166.330</td>\n",
       "      <td>1126332.670</td>\n",
       "      <td>15</td>\n",
       "    </tr>\n",
       "    <tr>\n",
       "      <th>5682120</th>\n",
       "      <td>397</td>\n",
       "      <td>90114.970</td>\n",
       "      <td>0.000</td>\n",
       "      <td>0.000</td>\n",
       "      <td>913879.890</td>\n",
       "      <td>1003994.860</td>\n",
       "      <td>-90114.970</td>\n",
       "      <td>1003994.860</td>\n",
       "      <td>90114.970</td>\n",
       "      <td>180229.940</td>\n",
       "      <td>16</td>\n",
       "    </tr>\n",
       "    <tr>\n",
       "      <th>1451556</th>\n",
       "      <td>140</td>\n",
       "      <td>8644.330</td>\n",
       "      <td>194337.000</td>\n",
       "      <td>185692.670</td>\n",
       "      <td>0.000</td>\n",
       "      <td>0.000</td>\n",
       "      <td>185692.670</td>\n",
       "      <td>8644.330</td>\n",
       "      <td>0.000</td>\n",
       "      <td>8644.330</td>\n",
       "      <td>5</td>\n",
       "    </tr>\n",
       "    <tr>\n",
       "      <th>4388767</th>\n",
       "      <td>319</td>\n",
       "      <td>4895343.330</td>\n",
       "      <td>4895343.330</td>\n",
       "      <td>0.000</td>\n",
       "      <td>286035.400</td>\n",
       "      <td>5181378.730</td>\n",
       "      <td>0.000</td>\n",
       "      <td>5181378.730</td>\n",
       "      <td>0.000</td>\n",
       "      <td>9790686.660</td>\n",
       "      <td>13</td>\n",
       "    </tr>\n",
       "  </tbody>\n",
       "</table>\n",
       "<p>806570 rows × 11 columns</p>\n",
       "</div>"
      ],
      "text/plain": [
       "         step      amount  oldbalance_orig  newbalance_orig  oldbalance_dest  \\\n",
       "2063729   181   38913.600            0.000            0.000            0.000   \n",
       "5247746   371  180464.110          387.000            0.000            0.000   \n",
       "2659260   210    5726.170        13211.000         7484.830            0.000   \n",
       "5624435   395  254254.210      7124833.470      7379087.680      3967427.550   \n",
       "2357276   190    6596.110       166772.000       160175.890            0.000   \n",
       "...       ...         ...              ...              ...              ...   \n",
       "5041226   354   18424.730        13474.190            0.000            0.000   \n",
       "5475436   379  563166.330            0.000            0.000      8417794.330   \n",
       "5682120   397   90114.970            0.000            0.000       913879.890   \n",
       "1451556   140    8644.330       194337.000       185692.670            0.000   \n",
       "4388767   319 4895343.330      4895343.330            0.000       286035.400   \n",
       "\n",
       "         newbalance_dest  adjusted_newbalance_orig  adjusted_newbalance_dest  \\\n",
       "2063729            0.000                -38913.600                 38913.600   \n",
       "5247746       180464.110               -180077.110                180464.110   \n",
       "2659260            0.000                  7484.830                  5726.170   \n",
       "5624435      3713173.340               6870579.260               4221681.760   \n",
       "2357276            0.000                160175.890                  6596.110   \n",
       "...                  ...                       ...                       ...   \n",
       "5041226            0.000                 -4950.540                 18424.730   \n",
       "5475436      8980960.670               -563166.330               8980960.660   \n",
       "5682120      1003994.860                -90114.970               1003994.860   \n",
       "1451556            0.000                185692.670                  8644.330   \n",
       "4388767      5181378.730                     0.000               5181378.730   \n",
       "\n",
       "         error_balance_orig  error_balance_dest  day  \n",
       "2063729           38913.600           38913.600    7  \n",
       "5247746          180077.110          360928.220   15  \n",
       "2659260               0.000            5726.170    8  \n",
       "5624435          508508.420               0.000   16  \n",
       "2357276               0.000            6596.110    7  \n",
       "...                     ...                 ...  ...  \n",
       "5041226            4950.540           18424.730   14  \n",
       "5475436          563166.330         1126332.670   15  \n",
       "5682120           90114.970          180229.940   16  \n",
       "1451556               0.000            8644.330    5  \n",
       "4388767               0.000         9790686.660   13  \n",
       "\n",
       "[806570 rows x 11 columns]"
      ]
     },
     "execution_count": 37,
     "metadata": {},
     "output_type": "execute_result"
    }
   ],
   "source": [
    "num_attributes = x_train.select_dtypes(exclude = 'object')\n",
    "num_attributes"
   ]
  },
  {
   "cell_type": "code",
   "execution_count": 38,
   "id": "3b13223a",
   "metadata": {},
   "outputs": [
    {
     "data": {
      "image/png": "[encoded data removed]",
      "text/plain": [
       "<Figure size 2500x1200 with 10 Axes>"
      ]
     },
     "metadata": {},
     "output_type": "display_data"
    }
   ],
   "source": [
    "plt.subplot(5,2,1)\n",
    "sns.boxplot(x = x_train['step'])\n",
    "\n",
    "plt.subplot(5,2,2)\n",
    "sns.boxplot(x = x_train['amount'])\n",
    "\n",
    "plt.subplot(5,2,3)\n",
    "sns.boxplot(x = x_train['oldbalance_orig'])\n",
    "\n",
    "plt.subplot(5,2,4)\n",
    "sns.boxplot(x = x_train['newbalance_orig'])\n",
    "\n",
    "plt.subplot(5,2,5)\n",
    "sns.boxplot(x = x_train['oldbalance_dest'])\n",
    "\n",
    "plt.subplot(5,2,6)\n",
    "sns.boxplot(x = x_train['newbalance_dest'])\n",
    "\n",
    "plt.subplot(5,2,7)\n",
    "sns.boxplot(x = x_train['adjusted_newbalance_orig'])\n",
    "\n",
    "plt.subplot(5,2,8)\n",
    "sns.boxplot(x = x_train['adjusted_newbalance_orig'])\n",
    "\n",
    "plt.subplot(5,2,9)\n",
    "sns.boxplot(x = x_train['error_balance_orig'])\n",
    "\n",
    "plt.subplot(5,2,10)\n",
    "sns.boxplot(x = x_train['error_balance_dest']);"
   ]
  },
  {
   "cell_type": "code",
   "execution_count": 39,
   "id": "3ff669e4",
   "metadata": {},
   "outputs": [
    {
     "data": {
      "image/png": "[encoded data removed]",
      "text/plain": [
       "<Figure size 2500x1200 with 12 Axes>"
      ]
     },
     "metadata": {},
     "output_type": "display_data"
    }
   ],
   "source": [
    "num_attributes.hist(bins = 25);"
   ]
  },
  {
   "cell_type": "markdown",
   "id": "ee9361c8",
   "metadata": {},
   "source": [
    "Normallization is a method of scaling applied to variables presenting a normal distribution. It is noted that there is no normal distribution. Therefore, normalization (which would be centered on 0 and adjust the standard deviation to 1) will not be applied to any data series.\n"
   ]
  },
  {
   "cell_type": "code",
   "execution_count": 40,
   "id": "8e2b6d6b",
   "metadata": {},
   "outputs": [
    {
     "data": {
      "text/html": [
       "<div>\n",
       "<style scoped>\n",
       "    .dataframe tbody tr th:only-of-type {\n",
       "        vertical-align: middle;\n",
       "    }\n",
       "\n",
       "    .dataframe tbody tr th {\n",
       "        vertical-align: top;\n",
       "    }\n",
       "\n",
       "    .dataframe thead th {\n",
       "        text-align: right;\n",
       "    }\n",
       "</style>\n",
       "<table border=\"1\" class=\"dataframe\">\n",
       "  <thead>\n",
       "    <tr style=\"text-align: right;\">\n",
       "      <th></th>\n",
       "      <th>step</th>\n",
       "      <th>payment_type</th>\n",
       "      <th>amount</th>\n",
       "      <th>oldbalance_orig</th>\n",
       "      <th>newbalance_orig</th>\n",
       "      <th>oldbalance_dest</th>\n",
       "      <th>newbalance_dest</th>\n",
       "      <th>transaction_type</th>\n",
       "      <th>adjusted_newbalance_orig</th>\n",
       "      <th>adjusted_newbalance_dest</th>\n",
       "      <th>error_balance_orig</th>\n",
       "      <th>error_balance_dest</th>\n",
       "      <th>day</th>\n",
       "    </tr>\n",
       "  </thead>\n",
       "  <tbody>\n",
       "    <tr>\n",
       "      <th>2063729</th>\n",
       "      <td>181</td>\n",
       "      <td>PAYMENT</td>\n",
       "      <td>38913.600</td>\n",
       "      <td>0.000</td>\n",
       "      <td>0.000</td>\n",
       "      <td>0.000</td>\n",
       "      <td>0.000</td>\n",
       "      <td>CM</td>\n",
       "      <td>-38913.600</td>\n",
       "      <td>38913.600</td>\n",
       "      <td>38913.600</td>\n",
       "      <td>38913.600</td>\n",
       "      <td>7</td>\n",
       "    </tr>\n",
       "    <tr>\n",
       "      <th>5247746</th>\n",
       "      <td>371</td>\n",
       "      <td>CASH_OUT</td>\n",
       "      <td>180464.110</td>\n",
       "      <td>387.000</td>\n",
       "      <td>0.000</td>\n",
       "      <td>0.000</td>\n",
       "      <td>180464.110</td>\n",
       "      <td>CC</td>\n",
       "      <td>-180077.110</td>\n",
       "      <td>180464.110</td>\n",
       "      <td>180077.110</td>\n",
       "      <td>360928.220</td>\n",
       "      <td>15</td>\n",
       "    </tr>\n",
       "    <tr>\n",
       "      <th>2659260</th>\n",
       "      <td>210</td>\n",
       "      <td>PAYMENT</td>\n",
       "      <td>5726.170</td>\n",
       "      <td>13211.000</td>\n",
       "      <td>7484.830</td>\n",
       "      <td>0.000</td>\n",
       "      <td>0.000</td>\n",
       "      <td>CM</td>\n",
       "      <td>7484.830</td>\n",
       "      <td>5726.170</td>\n",
       "      <td>0.000</td>\n",
       "      <td>5726.170</td>\n",
       "      <td>8</td>\n",
       "    </tr>\n",
       "    <tr>\n",
       "      <th>5624435</th>\n",
       "      <td>395</td>\n",
       "      <td>CASH_IN</td>\n",
       "      <td>254254.210</td>\n",
       "      <td>7124833.470</td>\n",
       "      <td>7379087.680</td>\n",
       "      <td>3967427.550</td>\n",
       "      <td>3713173.340</td>\n",
       "      <td>CC</td>\n",
       "      <td>6870579.260</td>\n",
       "      <td>4221681.760</td>\n",
       "      <td>508508.420</td>\n",
       "      <td>0.000</td>\n",
       "      <td>16</td>\n",
       "    </tr>\n",
       "    <tr>\n",
       "      <th>2357276</th>\n",
       "      <td>190</td>\n",
       "      <td>PAYMENT</td>\n",
       "      <td>6596.110</td>\n",
       "      <td>166772.000</td>\n",
       "      <td>160175.890</td>\n",
       "      <td>0.000</td>\n",
       "      <td>0.000</td>\n",
       "      <td>CM</td>\n",
       "      <td>160175.890</td>\n",
       "      <td>6596.110</td>\n",
       "      <td>0.000</td>\n",
       "      <td>6596.110</td>\n",
       "      <td>7</td>\n",
       "    </tr>\n",
       "  </tbody>\n",
       "</table>\n",
       "</div>"
      ],
      "text/plain": [
       "         step payment_type     amount  oldbalance_orig  newbalance_orig  \\\n",
       "2063729   181      PAYMENT  38913.600            0.000            0.000   \n",
       "5247746   371     CASH_OUT 180464.110          387.000            0.000   \n",
       "2659260   210      PAYMENT   5726.170        13211.000         7484.830   \n",
       "5624435   395      CASH_IN 254254.210      7124833.470      7379087.680   \n",
       "2357276   190      PAYMENT   6596.110       166772.000       160175.890   \n",
       "\n",
       "         oldbalance_dest  newbalance_dest transaction_type  \\\n",
       "2063729            0.000            0.000               CM   \n",
       "5247746            0.000       180464.110               CC   \n",
       "2659260            0.000            0.000               CM   \n",
       "5624435      3967427.550      3713173.340               CC   \n",
       "2357276            0.000            0.000               CM   \n",
       "\n",
       "         adjusted_newbalance_orig  adjusted_newbalance_dest  \\\n",
       "2063729                -38913.600                 38913.600   \n",
       "5247746               -180077.110                180464.110   \n",
       "2659260                  7484.830                  5726.170   \n",
       "5624435               6870579.260               4221681.760   \n",
       "2357276                160175.890                  6596.110   \n",
       "\n",
       "         error_balance_orig  error_balance_dest  day  \n",
       "2063729           38913.600           38913.600    7  \n",
       "5247746          180077.110          360928.220   15  \n",
       "2659260               0.000            5726.170    8  \n",
       "5624435          508508.420               0.000   16  \n",
       "2357276               0.000            6596.110    7  "
      ]
     },
     "execution_count": 40,
     "metadata": {},
     "output_type": "execute_result"
    }
   ],
   "source": [
    "x_train.head()"
   ]
  },
  {
   "cell_type": "code",
   "execution_count": 41,
   "id": "d4dd88b5",
   "metadata": {},
   "outputs": [],
   "source": [
    "#define models\n",
    "rs_amount = RobustScaler()\n",
    "rs_oldbalance_orig = RobustScaler()\n",
    "rs_newbalance_orig = RobustScaler()\n",
    "rs_oldbalance_dest = RobustScaler()\n",
    "rs_newbalance_dest = RobustScaler()\n",
    "rs_adjusted_newbalance_orig = RobustScaler()\n",
    "rs_adjusted_newbalance_dest = RobustScaler()\n",
    "rs_error_balance_orig = RobustScaler()\n",
    "rs_error_balance_dest = RobustScaler()\n",
    "mms_step = MinMaxScaler()\n",
    "mms_day = MinMaxScaler()\n",
    "\n",
    "#RobustScaler\n",
    "x_train['amount'] = rs_amount.fit_transform(x_train[['amount']].values)\n",
    "\n",
    "x_train['oldbalance_orig'] = rs_oldbalance_orig.fit_transform(x_train[['oldbalance_orig']].values)\n",
    "\n",
    "x_train['newbalance_orig'] = rs_newbalance_orig.fit_transform(x_train[['newbalance_orig']].values)\n",
    "\n",
    "x_train['oldbalance_dest'] = rs_oldbalance_dest.fit_transform(x_train[['oldbalance_dest']].values)\n",
    "\n",
    "x_train['newbalance_dest'] = rs_newbalance_dest.fit_transform(x_train[['newbalance_dest']].values)\n",
    "\n",
    "x_train['adjusted_newbalance_orig'] = rs_adjusted_newbalance_orig.fit_transform(x_train[['adjusted_newbalance_orig']].values)\n",
    "\n",
    "x_train['adjusted_newbalance_dest'] = rs_adjusted_newbalance_dest.fit_transform(x_train[['adjusted_newbalance_dest']].values)\n",
    "\n",
    "x_train['error_balance_orig'] = rs_error_balance_orig.fit_transform(x_train[['error_balance_orig']].values)\n",
    "\n",
    "x_train['error_balance_dest'] = rs_error_balance_dest.fit_transform(x_train[['error_balance_dest']].values)\n",
    "\n",
    "\n",
    "#MinMaxScaler\n",
    "x_train['step'] = mms_step.fit_transform(x_train[['step']].values)\n",
    "\n",
    "x_train['day'] = mms_day.fit_transform(x_train[['day']].values)"
   ]
  },
  {
   "cell_type": "markdown",
   "id": "b413a836",
   "metadata": {},
   "source": [
    "## 5.2. Features encoding"
   ]
  },
  {
   "cell_type": "code",
   "execution_count": 42,
   "id": "1cbaf4f3",
   "metadata": {},
   "outputs": [],
   "source": [
    "# payment type - Label Encoding\n",
    "le_payment_type = LabelEncoder()\n",
    "\n",
    "x_train['payment_type'] = le_payment_type.fit_transform(x_train['payment_type'])\n",
    "\n",
    "# transaction type - Ordinal Encoding\n",
    "transaction_dict = {'CC': 1,\n",
    "                   'CM': 2}\n",
    "x_train['transaction_type'] = x_train['transaction_type'].map(transaction_dict)"
   ]
  },
  {
   "cell_type": "markdown",
   "id": "2529f092",
   "metadata": {},
   "source": [
    "## 5.2. Test Preparation"
   ]
  },
  {
   "cell_type": "markdown",
   "id": "54fd8442",
   "metadata": {},
   "source": [
    "Replicate the transformation done in training(df) to x_test dataset.\n"
   ]
  },
  {
   "cell_type": "code",
   "execution_count": 43,
   "id": "668dd49c",
   "metadata": {},
   "outputs": [],
   "source": [
    "# applies same training encoders to testing data\n",
    "\n",
    "x_test.loc[:, 'amount'] = rs_amount.transform(x_test[['amount']].values)\n",
    "\n",
    "x_test.loc[:, 'oldbalance_orig'] = rs_oldbalance_orig.transform(x_test[['oldbalance_orig']].values)\n",
    "\n",
    "x_test.loc[:, 'newbalance_orig'] = rs_newbalance_orig.transform(x_test[['newbalance_orig']].values)\n",
    "\n",
    "x_test.loc[:, 'oldbalance_dest'] = rs_oldbalance_dest.transform(x_test[['oldbalance_dest']].values)\n",
    "\n",
    "x_test.loc[:, 'newbalance_dest'] = rs_newbalance_dest.transform(x_test[['newbalance_dest']].values)\n",
    "\n",
    "x_test.loc[:, 'adjusted_newbalance_orig'] = rs_adjusted_newbalance_orig.transform(x_test[['adjusted_newbalance_orig']].values)\n",
    "\n",
    "x_test.loc[:, 'adjusted_newbalance_dest'] = rs_adjusted_newbalance_dest.transform(x_test[['adjusted_newbalance_dest']].values)\n",
    "\n",
    "x_test.loc[:, 'error_balance_orig'] = rs_error_balance_orig.transform(x_test[['error_balance_orig']].values)\n",
    "\n",
    "x_test.loc[:, 'error_balance_dest'] = rs_error_balance_dest.transform(x_test[['error_balance_dest']].values)\n",
    "\n",
    "\n",
    "\n",
    "x_test.loc[:, 'step'] = mms_step.transform(x_test[['step']].values)\n",
    "\n",
    "x_test.loc[:, 'day'] = mms_day.transform(x_test[['day']].values)\n",
    "\n",
    "\n",
    "x_test.loc[:, 'payment_type'] = le_payment_type.transform(x_test[['payment_type']].values)\n",
    "\n",
    "x_test['transaction_type'] = x_test['transaction_type'].map(transaction_dict)"
   ]
  },
  {
   "cell_type": "code",
   "execution_count": 44,
   "id": "77209d32",
   "metadata": {},
   "outputs": [
    {
     "data": {
      "text/html": [
       "<div>\n",
       "<style scoped>\n",
       "    .dataframe tbody tr th:only-of-type {\n",
       "        vertical-align: middle;\n",
       "    }\n",
       "\n",
       "    .dataframe tbody tr th {\n",
       "        vertical-align: top;\n",
       "    }\n",
       "\n",
       "    .dataframe thead th {\n",
       "        text-align: right;\n",
       "    }\n",
       "</style>\n",
       "<table border=\"1\" class=\"dataframe\">\n",
       "  <thead>\n",
       "    <tr style=\"text-align: right;\">\n",
       "      <th></th>\n",
       "      <th>step</th>\n",
       "      <th>payment_type</th>\n",
       "      <th>amount</th>\n",
       "      <th>oldbalance_orig</th>\n",
       "      <th>newbalance_orig</th>\n",
       "      <th>oldbalance_dest</th>\n",
       "      <th>newbalance_dest</th>\n",
       "      <th>transaction_type</th>\n",
       "      <th>adjusted_newbalance_orig</th>\n",
       "      <th>adjusted_newbalance_dest</th>\n",
       "      <th>error_balance_orig</th>\n",
       "      <th>error_balance_dest</th>\n",
       "      <th>day</th>\n",
       "    </tr>\n",
       "  </thead>\n",
       "  <tbody>\n",
       "    <tr>\n",
       "      <th>1345222</th>\n",
       "      <td>0.183</td>\n",
       "      <td>3</td>\n",
       "      <td>-0.266</td>\n",
       "      <td>6.323</td>\n",
       "      <td>4.885</td>\n",
       "      <td>-0.138</td>\n",
       "      <td>-0.192</td>\n",
       "      <td>2</td>\n",
       "      <td>3.653</td>\n",
       "      <td>-0.245</td>\n",
       "      <td>-0.271</td>\n",
       "      <td>-0.017</td>\n",
       "      <td>0.167</td>\n",
       "    </tr>\n",
       "    <tr>\n",
       "      <th>1251751</th>\n",
       "      <td>0.179</td>\n",
       "      <td>3</td>\n",
       "      <td>-0.157</td>\n",
       "      <td>-0.133</td>\n",
       "      <td>0.000</td>\n",
       "      <td>-0.138</td>\n",
       "      <td>-0.192</td>\n",
       "      <td>2</td>\n",
       "      <td>-0.160</td>\n",
       "      <td>-0.227</td>\n",
       "      <td>-0.087</td>\n",
       "      <td>0.052</td>\n",
       "      <td>0.167</td>\n",
       "    </tr>\n",
       "    <tr>\n",
       "      <th>3981707</th>\n",
       "      <td>0.400</td>\n",
       "      <td>1</td>\n",
       "      <td>0.150</td>\n",
       "      <td>-0.081</td>\n",
       "      <td>0.000</td>\n",
       "      <td>-0.138</td>\n",
       "      <td>-0.097</td>\n",
       "      <td>1</td>\n",
       "      <td>-0.444</td>\n",
       "      <td>-0.176</td>\n",
       "      <td>0.136</td>\n",
       "      <td>0.589</td>\n",
       "      <td>0.400</td>\n",
       "    </tr>\n",
       "    <tr>\n",
       "      <th>4840207</th>\n",
       "      <td>0.466</td>\n",
       "      <td>4</td>\n",
       "      <td>6.847</td>\n",
       "      <td>0.016</td>\n",
       "      <td>0.000</td>\n",
       "      <td>7.579</td>\n",
       "      <td>7.598</td>\n",
       "      <td>1</td>\n",
       "      <td>-7.237</td>\n",
       "      <td>6.997</td>\n",
       "      <td>5.481</td>\n",
       "      <td>9.127</td>\n",
       "      <td>0.467</td>\n",
       "    </tr>\n",
       "    <tr>\n",
       "      <th>2061406</th>\n",
       "      <td>0.243</td>\n",
       "      <td>1</td>\n",
       "      <td>0.455</td>\n",
       "      <td>-0.037</td>\n",
       "      <td>0.000</td>\n",
       "      <td>6.278</td>\n",
       "      <td>5.365</td>\n",
       "      <td>1</td>\n",
       "      <td>-0.731</td>\n",
       "      <td>4.916</td>\n",
       "      <td>0.362</td>\n",
       "      <td>0.978</td>\n",
       "      <td>0.233</td>\n",
       "    </tr>\n",
       "    <tr>\n",
       "      <th>...</th>\n",
       "      <td>...</td>\n",
       "      <td>...</td>\n",
       "      <td>...</td>\n",
       "      <td>...</td>\n",
       "      <td>...</td>\n",
       "      <td>...</td>\n",
       "      <td>...</td>\n",
       "      <td>...</td>\n",
       "      <td>...</td>\n",
       "      <td>...</td>\n",
       "      <td>...</td>\n",
       "      <td>...</td>\n",
       "      <td>...</td>\n",
       "    </tr>\n",
       "    <tr>\n",
       "      <th>3281432</th>\n",
       "      <td>0.337</td>\n",
       "      <td>3</td>\n",
       "      <td>-0.260</td>\n",
       "      <td>0.562</td>\n",
       "      <td>0.370</td>\n",
       "      <td>-0.138</td>\n",
       "      <td>-0.192</td>\n",
       "      <td>2</td>\n",
       "      <td>0.344</td>\n",
       "      <td>-0.244</td>\n",
       "      <td>-0.271</td>\n",
       "      <td>-0.013</td>\n",
       "      <td>0.333</td>\n",
       "    </tr>\n",
       "    <tr>\n",
       "      <th>368491</th>\n",
       "      <td>0.022</td>\n",
       "      <td>1</td>\n",
       "      <td>0.108</td>\n",
       "      <td>-0.133</td>\n",
       "      <td>0.000</td>\n",
       "      <td>0.038</td>\n",
       "      <td>0.044</td>\n",
       "      <td>1</td>\n",
       "      <td>-0.431</td>\n",
       "      <td>-0.045</td>\n",
       "      <td>0.126</td>\n",
       "      <td>0.536</td>\n",
       "      <td>0.000</td>\n",
       "    </tr>\n",
       "    <tr>\n",
       "      <th>6205144</th>\n",
       "      <td>0.788</td>\n",
       "      <td>1</td>\n",
       "      <td>0.486</td>\n",
       "      <td>-0.133</td>\n",
       "      <td>0.000</td>\n",
       "      <td>0.119</td>\n",
       "      <td>0.179</td>\n",
       "      <td>1</td>\n",
       "      <td>-0.817</td>\n",
       "      <td>0.081</td>\n",
       "      <td>0.430</td>\n",
       "      <td>1.017</td>\n",
       "      <td>0.800</td>\n",
       "    </tr>\n",
       "    <tr>\n",
       "      <th>819879</th>\n",
       "      <td>0.053</td>\n",
       "      <td>1</td>\n",
       "      <td>0.101</td>\n",
       "      <td>-0.133</td>\n",
       "      <td>0.000</td>\n",
       "      <td>0.719</td>\n",
       "      <td>0.616</td>\n",
       "      <td>1</td>\n",
       "      <td>-0.423</td>\n",
       "      <td>0.489</td>\n",
       "      <td>0.120</td>\n",
       "      <td>0.526</td>\n",
       "      <td>0.033</td>\n",
       "    </tr>\n",
       "    <tr>\n",
       "      <th>3718274</th>\n",
       "      <td>0.373</td>\n",
       "      <td>1</td>\n",
       "      <td>0.731</td>\n",
       "      <td>-0.083</td>\n",
       "      <td>0.000</td>\n",
       "      <td>-0.138</td>\n",
       "      <td>0.006</td>\n",
       "      <td>1</td>\n",
       "      <td>-1.040</td>\n",
       "      <td>-0.080</td>\n",
       "      <td>0.605</td>\n",
       "      <td>1.330</td>\n",
       "      <td>0.367</td>\n",
       "    </tr>\n",
       "  </tbody>\n",
       "</table>\n",
       "<p>201643 rows × 13 columns</p>\n",
       "</div>"
      ],
      "text/plain": [
       "         step  payment_type  amount  oldbalance_orig  newbalance_orig  \\\n",
       "1345222 0.183             3  -0.266            6.323            4.885   \n",
       "1251751 0.179             3  -0.157           -0.133            0.000   \n",
       "3981707 0.400             1   0.150           -0.081            0.000   \n",
       "4840207 0.466             4   6.847            0.016            0.000   \n",
       "2061406 0.243             1   0.455           -0.037            0.000   \n",
       "...       ...           ...     ...              ...              ...   \n",
       "3281432 0.337             3  -0.260            0.562            0.370   \n",
       "368491  0.022             1   0.108           -0.133            0.000   \n",
       "6205144 0.788             1   0.486           -0.133            0.000   \n",
       "819879  0.053             1   0.101           -0.133            0.000   \n",
       "3718274 0.373             1   0.731           -0.083            0.000   \n",
       "\n",
       "         oldbalance_dest  newbalance_dest  transaction_type  \\\n",
       "1345222           -0.138           -0.192                 2   \n",
       "1251751           -0.138           -0.192                 2   \n",
       "3981707           -0.138           -0.097                 1   \n",
       "4840207            7.579            7.598                 1   \n",
       "2061406            6.278            5.365                 1   \n",
       "...                  ...              ...               ...   \n",
       "3281432           -0.138           -0.192                 2   \n",
       "368491             0.038            0.044                 1   \n",
       "6205144            0.119            0.179                 1   \n",
       "819879             0.719            0.616                 1   \n",
       "3718274           -0.138            0.006                 1   \n",
       "\n",
       "         adjusted_newbalance_orig  adjusted_newbalance_dest  \\\n",
       "1345222                     3.653                    -0.245   \n",
       "1251751                    -0.160                    -0.227   \n",
       "3981707                    -0.444                    -0.176   \n",
       "4840207                    -7.237                     6.997   \n",
       "2061406                    -0.731                     4.916   \n",
       "...                           ...                       ...   \n",
       "3281432                     0.344                    -0.244   \n",
       "368491                     -0.431                    -0.045   \n",
       "6205144                    -0.817                     0.081   \n",
       "819879                     -0.423                     0.489   \n",
       "3718274                    -1.040                    -0.080   \n",
       "\n",
       "         error_balance_orig  error_balance_dest   day  \n",
       "1345222              -0.271              -0.017 0.167  \n",
       "1251751              -0.087               0.052 0.167  \n",
       "3981707               0.136               0.589 0.400  \n",
       "4840207               5.481               9.127 0.467  \n",
       "2061406               0.362               0.978 0.233  \n",
       "...                     ...                 ...   ...  \n",
       "3281432              -0.271              -0.013 0.333  \n",
       "368491                0.126               0.536 0.000  \n",
       "6205144               0.430               1.017 0.800  \n",
       "819879                0.120               0.526 0.033  \n",
       "3718274               0.605               1.330 0.367  \n",
       "\n",
       "[201643 rows x 13 columns]"
      ]
     },
     "execution_count": 44,
     "metadata": {},
     "output_type": "execute_result"
    }
   ],
   "source": [
    "x_test"
   ]
  },
  {
   "cell_type": "code",
   "execution_count": 45,
   "id": "9a8bcd9f",
   "metadata": {},
   "outputs": [
    {
     "data": {
      "text/plain": [
       "step                        0\n",
       "payment_type                0\n",
       "amount                      0\n",
       "oldbalance_orig             0\n",
       "newbalance_orig             0\n",
       "oldbalance_dest             0\n",
       "newbalance_dest             0\n",
       "transaction_type            0\n",
       "adjusted_newbalance_orig    0\n",
       "adjusted_newbalance_dest    0\n",
       "error_balance_orig          0\n",
       "error_balance_dest          0\n",
       "day                         0\n",
       "dtype: int64"
      ]
     },
     "execution_count": 45,
     "metadata": {},
     "output_type": "execute_result"
    }
   ],
   "source": [
    "x_test.isna().sum()"
   ]
  },
  {
   "cell_type": "markdown",
   "id": "d8bc8a06",
   "metadata": {},
   "source": [
    "# 6.0. FEATURE SELECTION"
   ]
  },
  {
   "cell_type": "markdown",
   "id": "ead79e63",
   "metadata": {},
   "source": [
    "## 6.1. Boruta as Feature Selector"
   ]
  },
  {
   "cell_type": "code",
   "execution_count": 46,
   "id": "ce7d45cc",
   "metadata": {},
   "outputs": [],
   "source": [
    "#split data\n",
    "X = x_train\n",
    "y = y_train"
   ]
  },
  {
   "cell_type": "code",
   "execution_count": 47,
   "id": "b71d2939",
   "metadata": {},
   "outputs": [
    {
     "data": {
      "text/plain": [
       "2063729    0\n",
       "5247746    0\n",
       "2659260    0\n",
       "5624435    0\n",
       "2357276    0\n",
       "          ..\n",
       "5041226    0\n",
       "5475436    0\n",
       "5682120    0\n",
       "1451556    0\n",
       "4388767    1\n",
       "Name: is_fraud, Length: 806570, dtype: int64"
      ]
     },
     "execution_count": 47,
     "metadata": {},
     "output_type": "execute_result"
    }
   ],
   "source": [
    "y"
   ]
  },
  {
   "cell_type": "code",
   "execution_count": 48,
   "id": "31c7b756",
   "metadata": {},
   "outputs": [],
   "source": [
    "# #define model\n",
    "# rf = RandomForestRegressor( n_jobs=-1 )\n",
    "\n",
    "\n",
    "# #split data \n",
    "# X_train_nn = X.values\n",
    "# y_train_nn = y.values.ravel()\n",
    "\n",
    "# #define boruta\n",
    "# boruta = BorutaPy( rf, n_estimators='auto', verbose=2, random_state=42 ).fit(X_train_nn, y_train_nn )"
   ]
  },
  {
   "cell_type": "code",
   "execution_count": 49,
   "id": "aa0978ca",
   "metadata": {},
   "outputs": [],
   "source": [
    "# After running Boruta\n",
    "# columns selected boruta\n",
    "\n",
    "# cols_selected = boruta.support_.tolist()\n",
    "# cols_selected_boruta = X.iloc[:, cols_selected].columns.to_list()\n",
    "cols_selected_boruta = [\n",
    "    'step',\n",
    "    'amount',\n",
    "    'oldbalance_orig',\n",
    "    'newbalance_orig',\n",
    "    'adjusted_newbalance_orig',\n",
    "    'error_balance_orig']"
   ]
  },
  {
   "cell_type": "code",
   "execution_count": 50,
   "id": "64e589e3",
   "metadata": {},
   "outputs": [],
   "source": [
    "# columns not selected \n",
    "# cols_not_selected_boruta = list( np.setdiff1d( X.columns,cols_selected_boruta ) )\n",
    "\n",
    "cols_not_selected_boruta = [\n",
    "    'adjusted_newbalance_dest',\n",
    "    'day',\n",
    "    'error_balance_dest',\n",
    "    'newbalance_dest',\n",
    "    'oldbalance_dest',\n",
    "    'payment_type',\n",
    "    'transaction_type']"
   ]
  },
  {
   "cell_type": "markdown",
   "id": "b7cd3904",
   "metadata": {},
   "source": [
    "## 6.3. Manual Feature Selection\n",
    "\n",
    "Important features taking into consideration Boruta Selection"
   ]
  },
  {
   "cell_type": "code",
   "execution_count": 51,
   "id": "858ccf54",
   "metadata": {},
   "outputs": [],
   "source": [
    "# columns not selected \n",
    "\n",
    "cols_selected_boruta_full = [\n",
    "    'step',\n",
    "    'amount',\n",
    "    'oldbalance_orig',\n",
    "    'newbalance_orig',\n",
    "    'adjusted_newbalance_orig',\n",
    "    'error_balance_orig',\n",
    "    'adjusted_newbalance_dest',\n",
    "    'error_balance_dest']\n",
    "\n"
   ]
  },
  {
   "cell_type": "markdown",
   "id": "6d7d1f8d",
   "metadata": {},
   "source": [
    "\n",
    "# 7.0. MACHINE LEARNING MODELLING\n"
   ]
  },
  {
   "cell_type": "markdown",
   "id": "82cc660b",
   "metadata": {},
   "source": [
    "Model Evaluation in Credit Card Fraud Detection\n",
    "\n",
    "* Accuracy isn't everything. When working with highly imbalanced data, accuracy is not a reliable performance metric. Because by doing nothing but just predicting everything is in the maority class, you can obtain a higher accuracy than by building a predictive model.\n",
    "* Precision: true positives / (true positives + false positives)\n",
    "* Recall : true positives / (true positives +false negatives)\n",
    "* F1-score: 2 x Precision x Recall / (Precision + Recall) = 2 x TP / (2 x TP + FP + FN)\n",
    "* A credit card company wants to watch as much fraud as possible(reduce false negatives) as fraudulent transactios can be very costly and a false alarm means someone's transaction is blocked(reduce false positives)."
   ]
  },
  {
   "cell_type": "code",
   "execution_count": 52,
   "id": "9c1a8b53",
   "metadata": {},
   "outputs": [],
   "source": [
    "x_train = x_train[cols_selected_boruta_full]\n",
    "x_test = x_test[cols_selected_boruta_full]"
   ]
  },
  {
   "cell_type": "markdown",
   "id": "7f595322",
   "metadata": {},
   "source": [
    "## 7.1. Logistic Regression\n",
    "\n",
    "\n",
    "Logistic regression is a calculation used to predict a binary outcome: either something happens, or does not. This can be exhibited as Yes/No, Pass/Fail, Alive/Dead, etc. In this case, the goal is to identify whether a transaction is fraud or not."
   ]
  },
  {
   "cell_type": "code",
   "execution_count": 53,
   "id": "8f76e4c8",
   "metadata": {},
   "outputs": [
    {
     "data": {
      "text/html": [
       "<div>\n",
       "<style scoped>\n",
       "    .dataframe tbody tr th:only-of-type {\n",
       "        vertical-align: middle;\n",
       "    }\n",
       "\n",
       "    .dataframe tbody tr th {\n",
       "        vertical-align: top;\n",
       "    }\n",
       "\n",
       "    .dataframe thead th {\n",
       "        text-align: right;\n",
       "    }\n",
       "</style>\n",
       "<table border=\"1\" class=\"dataframe\">\n",
       "  <thead>\n",
       "    <tr style=\"text-align: right;\">\n",
       "      <th></th>\n",
       "      <th>Model</th>\n",
       "      <th>Accuracy</th>\n",
       "      <th>Recall</th>\n",
       "      <th>F1-Score</th>\n",
       "      <th>Precision_score</th>\n",
       "    </tr>\n",
       "  </thead>\n",
       "  <tbody>\n",
       "    <tr>\n",
       "      <th>0</th>\n",
       "      <td>Logistic Regression</td>\n",
       "      <td>0.996</td>\n",
       "      <td>0.575</td>\n",
       "      <td>0.701</td>\n",
       "      <td>0.899</td>\n",
       "    </tr>\n",
       "  </tbody>\n",
       "</table>\n",
       "</div>"
      ],
      "text/plain": [
       "                 Model Accuracy Recall F1-Score Precision_score\n",
       "0  Logistic Regression    0.996  0.575    0.701           0.899"
      ]
     },
     "execution_count": 53,
     "metadata": {},
     "output_type": "execute_result"
    }
   ],
   "source": [
    "#define model\n",
    "logreg = LogisticRegression()\n",
    "\n",
    "#training model\n",
    "model_log = logreg.fit(x_train.values,y_train.values.ravel())\n",
    "\n",
    "#predict model\n",
    "yhat_log = model_log.predict(x_test)\n",
    "\n",
    "#performance\n",
    "result_log = pd.DataFrame([\"Logistic Regression\",accuracy_score(y_test,yhat_log),\n",
    "                          recall_score(y_test,yhat_log), f1_score(y_test,yhat_log),\n",
    "                           precision_score(y_test,yhat_log)]).T\n",
    "result_log.columns = [\"Model\",'Accuracy',\"Recall\",\"F1-Score\",\"Precision_score\"]\n",
    "\n",
    "result_log"
   ]
  },
  {
   "cell_type": "code",
   "execution_count": 54,
   "id": "cafc2158",
   "metadata": {},
   "outputs": [
    {
     "name": "stdout",
     "output_type": "stream",
     "text": [
      "Number of valid transactions labelled as fraudulent by Logistic Regression: \n",
      " 106\n",
      "Number of fraud transactions labelled as valid by Logistic Regression: \n",
      " 699\n"
     ]
    }
   ],
   "source": [
    "cm_log = confusion_matrix(y_test,yhat_log)\n",
    "print(\"Number of valid transactions labelled as fraudulent by Logistic Regression: \\n\", cm_log[0,1])\n",
    "print(\"Number of fraud transactions labelled as valid by Logistic Regression: \\n\", cm_log[1,0])"
   ]
  },
  {
   "cell_type": "code",
   "execution_count": 55,
   "id": "ed69eb52",
   "metadata": {},
   "outputs": [
    {
     "data": {
      "image/png": "[encoded data removed]",
      "text/plain": [
       "<Figure size 500x500 with 2 Axes>"
      ]
     },
     "metadata": {},
     "output_type": "display_data"
    }
   ],
   "source": [
    "mt.plot_confusion_matrix(y_test,yhat_log, normalize = False, figsize = (5,5));"
   ]
  },
  {
   "cell_type": "markdown",
   "id": "14fbcc5d",
   "metadata": {},
   "source": [
    "## 7.2. Support Vector Machine (SVM)\n",
    "\n",
    "Support vector machine finds the best way to classify the data based on the position in relation to a border between positive class and negative class. "
   ]
  },
  {
   "cell_type": "code",
   "execution_count": 56,
   "id": "c45be42a",
   "metadata": {},
   "outputs": [
    {
     "data": {
      "text/html": [
       "<div>\n",
       "<style scoped>\n",
       "    .dataframe tbody tr th:only-of-type {\n",
       "        vertical-align: middle;\n",
       "    }\n",
       "\n",
       "    .dataframe tbody tr th {\n",
       "        vertical-align: top;\n",
       "    }\n",
       "\n",
       "    .dataframe thead th {\n",
       "        text-align: right;\n",
       "    }\n",
       "</style>\n",
       "<table border=\"1\" class=\"dataframe\">\n",
       "  <thead>\n",
       "    <tr style=\"text-align: right;\">\n",
       "      <th></th>\n",
       "      <th>Model</th>\n",
       "      <th>Accuracy</th>\n",
       "      <th>Recall</th>\n",
       "      <th>F1-Score</th>\n",
       "      <th>Precision_score</th>\n",
       "    </tr>\n",
       "  </thead>\n",
       "  <tbody>\n",
       "    <tr>\n",
       "      <th>0</th>\n",
       "      <td>Support Vector Machine</td>\n",
       "      <td>0.995</td>\n",
       "      <td>0.444</td>\n",
       "      <td>0.610</td>\n",
       "      <td>0.976</td>\n",
       "    </tr>\n",
       "  </tbody>\n",
       "</table>\n",
       "</div>"
      ],
      "text/plain": [
       "                    Model Accuracy Recall F1-Score Precision_score\n",
       "0  Support Vector Machine    0.995  0.444    0.610           0.976"
      ]
     },
     "execution_count": 56,
     "metadata": {},
     "output_type": "execute_result"
    }
   ],
   "source": [
    "# Model definition\n",
    "svc = SVC()\n",
    "\n",
    "# Model training\n",
    "svc.fit(x_train, y_train)\n",
    "\n",
    "# Model prediction \n",
    "yhat_svc = svc.predict( x_test );\n",
    "\n",
    "#performance\n",
    "result_svc = pd.DataFrame([\"Support Vector Machine\",accuracy_score(y_test,yhat_svc),\n",
    "                           recall_score(y_test,yhat_svc), f1_score(y_test,yhat_svc),\n",
    "                           precision_score(y_test,yhat_svc)]).T\n",
    "result_svc.columns = [\"Model\",'Accuracy',\"Recall\",\"F1-Score\",\"Precision_score\"]\n",
    "\n",
    "result_svc"
   ]
  },
  {
   "cell_type": "code",
   "execution_count": 57,
   "id": "233c090d",
   "metadata": {},
   "outputs": [
    {
     "name": "stdout",
     "output_type": "stream",
     "text": [
      "Number of valid transactions labelled as fraudulent by Support Vector Machine : \n",
      " 18\n",
      "Number of fraud transactions labelled as valid by Support Vector Machine : \n",
      " 914\n"
     ]
    }
   ],
   "source": [
    "cm_vsc = confusion_matrix(y_test,yhat_svc)\n",
    "print(\"Number of valid transactions labelled as fraudulent by Support Vector Machine : \\n\", cm_vsc[0,1])\n",
    "print(\"Number of fraud transactions labelled as valid by Support Vector Machine : \\n\", cm_vsc[1,0])"
   ]
  },
  {
   "cell_type": "code",
   "execution_count": 58,
   "id": "55750b38",
   "metadata": {},
   "outputs": [
    {
     "data": {
      "image/png": "[encoded data removed]",
      "text/plain": [
       "<Figure size 500x500 with 2 Axes>"
      ]
     },
     "metadata": {},
     "output_type": "display_data"
    }
   ],
   "source": [
    "mt.plot_confusion_matrix(y_test,yhat_svc, normalize = False, figsize = (5,5));"
   ]
  },
  {
   "cell_type": "markdown",
   "id": "946a8493",
   "metadata": {},
   "source": [
    "## 7.3. Random Forest Classifier\n",
    "\n",
    "A decision tree is a supervised learning algorithm that is perfect for classification problems, as it’s able to order classes on a precise level. It works like a flow chart, separating data points into two similar categories at a time from the “tree trunk” to “branches,” to “leaves,” where the categories become more finitely similar. This creates categories within categories, allowing for organic classification with limited human supervision."
   ]
  },
  {
   "cell_type": "code",
   "execution_count": 59,
   "id": "cb43493a",
   "metadata": {},
   "outputs": [
    {
     "data": {
      "text/html": [
       "<div>\n",
       "<style scoped>\n",
       "    .dataframe tbody tr th:only-of-type {\n",
       "        vertical-align: middle;\n",
       "    }\n",
       "\n",
       "    .dataframe tbody tr th {\n",
       "        vertical-align: top;\n",
       "    }\n",
       "\n",
       "    .dataframe thead th {\n",
       "        text-align: right;\n",
       "    }\n",
       "</style>\n",
       "<table border=\"1\" class=\"dataframe\">\n",
       "  <thead>\n",
       "    <tr style=\"text-align: right;\">\n",
       "      <th></th>\n",
       "      <th>Model</th>\n",
       "      <th>Accuracy</th>\n",
       "      <th>Recall</th>\n",
       "      <th>F1-Score</th>\n",
       "      <th>Precision_score</th>\n",
       "    </tr>\n",
       "  </thead>\n",
       "  <tbody>\n",
       "    <tr>\n",
       "      <th>0</th>\n",
       "      <td>Random Forest Classifier</td>\n",
       "      <td>1.000</td>\n",
       "      <td>0.994</td>\n",
       "      <td>0.997</td>\n",
       "      <td>1.000</td>\n",
       "    </tr>\n",
       "  </tbody>\n",
       "</table>\n",
       "</div>"
      ],
      "text/plain": [
       "                      Model Accuracy Recall F1-Score Precision_score\n",
       "0  Random Forest Classifier    1.000  0.994    0.997           1.000"
      ]
     },
     "execution_count": 59,
     "metadata": {},
     "output_type": "execute_result"
    }
   ],
   "source": [
    "# Model definition\n",
    "rf = RandomForestClassifier(n_jobs = -1)\n",
    "\n",
    "# Model training\n",
    "rf.fit(x_train, y_train)\n",
    "\n",
    "# Model Prediction\n",
    "yhat_rf = rf.predict(x_test)\n",
    "\n",
    "#performance\n",
    "result_rf = pd.DataFrame([\"Random Forest Classifier\",accuracy_score(y_test,yhat_rf),\n",
    "                          recall_score(y_test,yhat_rf), f1_score(y_test,yhat_rf),\n",
    "                           precision_score(y_test,yhat_rf)]).T\n",
    "result_rf.columns = [\"Model\",'Accuracy',\"Recall\",\"F1-Score\",\"Precision_score\"]\n",
    "\n",
    "result_rf"
   ]
  },
  {
   "cell_type": "code",
   "execution_count": 60,
   "id": "d18dfb8c",
   "metadata": {},
   "outputs": [
    {
     "name": "stdout",
     "output_type": "stream",
     "text": [
      "Number of valid transactions labelled as fraudulent by Random Forest: \n",
      " 0\n",
      "Number of fraud transactions labelled as valid by Random Forest: \n",
      " 10\n"
     ]
    }
   ],
   "source": [
    "cm_rf = confusion_matrix(y_test,yhat_rf)\n",
    "print(\"Number of valid transactions labelled as fraudulent by Random Forest: \\n\", cm_rf[0,1])\n",
    "print(\"Number of fraud transactions labelled as valid by Random Forest: \\n\", cm_rf[1,0])"
   ]
  },
  {
   "cell_type": "code",
   "execution_count": 61,
   "id": "18977a12",
   "metadata": {},
   "outputs": [
    {
     "data": {
      "image/png": "[encoded data removed]",
      "text/plain": [
       "<Figure size 500x500 with 2 Axes>"
      ]
     },
     "metadata": {},
     "output_type": "display_data"
    }
   ],
   "source": [
    "mt.plot_confusion_matrix(y_test,yhat_rf, normalize = False, figsize = (5,5));"
   ]
  },
  {
   "cell_type": "markdown",
   "id": "e13fc5de",
   "metadata": {},
   "source": [
    "\n",
    "# 8. BUSINESS PERFORMANCE\n"
   ]
  },
  {
   "cell_type": "markdown",
   "id": "e59c95c4",
   "metadata": {},
   "source": [
    "First of all, let's remember what is the business model:\n",
    "\n",
    "**1** - The company receives 20% of each transaction value truly detected as fraud.\n",
    "\n",
    "**2** - The company receives 5% of each transaction value detected as fraud, however the transaction is legal.\n",
    "\n",
    "**3** - The company pays back 100% of the value for the customer in each transaction detected as legitimate, however the transaction is actually a fraudulent.\n",
    "\n",
    "\n",
    "What do we need to show?\n",
    "\n",
    "*    What is the model's Precision and Recall?\n",
    "*    What is the Expected Billing by the Company if we classify 100% of transactions with the model?\n",
    "\n"
   ]
  },
  {
   "cell_type": "code",
   "execution_count": 62,
   "id": "e798a2c1",
   "metadata": {},
   "outputs": [],
   "source": [
    "x_test['is_fraud'] = y_test\n",
    "\n",
    "# Join predictions on the test set in order to calculate the business performance\n",
    "x_test['predictions'] = yhat_rf\n",
    "\n",
    "# Revert rescaling\n",
    "x_test['amount'] = rs_amount.inverse_transform(x_test[['amount']])"
   ]
  },
  {
   "cell_type": "code",
   "execution_count": 63,
   "id": "18cd1a8c",
   "metadata": {},
   "outputs": [
    {
     "data": {
      "text/html": [
       "<div>\n",
       "<style scoped>\n",
       "    .dataframe tbody tr th:only-of-type {\n",
       "        vertical-align: middle;\n",
       "    }\n",
       "\n",
       "    .dataframe tbody tr th {\n",
       "        vertical-align: top;\n",
       "    }\n",
       "\n",
       "    .dataframe thead th {\n",
       "        text-align: right;\n",
       "    }\n",
       "</style>\n",
       "<table border=\"1\" class=\"dataframe\">\n",
       "  <thead>\n",
       "    <tr style=\"text-align: right;\">\n",
       "      <th></th>\n",
       "      <th>is_fraud</th>\n",
       "      <th>predictions</th>\n",
       "      <th>amount</th>\n",
       "      <th>to_receive</th>\n",
       "    </tr>\n",
       "  </thead>\n",
       "  <tbody>\n",
       "    <tr>\n",
       "      <th>0</th>\n",
       "      <td>1</td>\n",
       "      <td>1</td>\n",
       "      <td>2190434654.230</td>\n",
       "      <td>438086930.846</td>\n",
       "    </tr>\n",
       "  </tbody>\n",
       "</table>\n",
       "</div>"
      ],
      "text/plain": [
       "   is_fraud  predictions         amount    to_receive\n",
       "0         1            1 2190434654.230 438086930.846"
      ]
     },
     "execution_count": 63,
     "metadata": {},
     "output_type": "execute_result"
    }
   ],
   "source": [
    "# The company receives 20% of each transaction value truly detected as fraud\n",
    "fraud_detected = x_test[(x_test['is_fraud'] == 1) & (x_test['predictions'] == 1)]\n",
    "fraud_detected_amount = fraud_detected[['amount', 'is_fraud', 'predictions']].\\\n",
    "                                                groupby(['is_fraud', 'predictions']).sum().reset_index()\n",
    "fraud_detected_amount['to_receive'] = fraud_detected_amount['amount']*0.2\n",
    "fraud_detected_amount"
   ]
  },
  {
   "cell_type": "code",
   "execution_count": 64,
   "id": "857134bb",
   "metadata": {},
   "outputs": [
    {
     "data": {
      "text/html": [
       "<div>\n",
       "<style scoped>\n",
       "    .dataframe tbody tr th:only-of-type {\n",
       "        vertical-align: middle;\n",
       "    }\n",
       "\n",
       "    .dataframe tbody tr th {\n",
       "        vertical-align: top;\n",
       "    }\n",
       "\n",
       "    .dataframe thead th {\n",
       "        text-align: right;\n",
       "    }\n",
       "</style>\n",
       "<table border=\"1\" class=\"dataframe\">\n",
       "  <thead>\n",
       "    <tr style=\"text-align: right;\">\n",
       "      <th></th>\n",
       "      <th>is_fraud</th>\n",
       "      <th>predictions</th>\n",
       "      <th>amount</th>\n",
       "      <th>to_receive</th>\n",
       "    </tr>\n",
       "  </thead>\n",
       "  <tbody>\n",
       "  </tbody>\n",
       "</table>\n",
       "</div>"
      ],
      "text/plain": [
       "Empty DataFrame\n",
       "Columns: [is_fraud, predictions, amount, to_receive]\n",
       "Index: []"
      ]
     },
     "execution_count": 64,
     "metadata": {},
     "output_type": "execute_result"
    }
   ],
   "source": [
    "# The company receives 5% of each transaction value detected as fraud, however the transaction is legal\n",
    "fraud_detected_leg = x_test[(x_test['is_fraud'] == 0) & (x_test['predictions'] == 1)]\n",
    "fraud_detected_leg_amount = fraud_detected_leg[['amount', 'is_fraud', 'predictions']].\\\n",
    "                                                groupby(['is_fraud', 'predictions']).sum().reset_index()\n",
    "fraud_detected_leg_amount['to_receive'] = fraud_detected_leg_amount['amount']*0.05\n",
    "fraud_detected_leg_amount"
   ]
  },
  {
   "cell_type": "code",
   "execution_count": 65,
   "id": "5048f10d",
   "metadata": {},
   "outputs": [
    {
     "data": {
      "text/html": [
       "<div>\n",
       "<style scoped>\n",
       "    .dataframe tbody tr th:only-of-type {\n",
       "        vertical-align: middle;\n",
       "    }\n",
       "\n",
       "    .dataframe tbody tr th {\n",
       "        vertical-align: top;\n",
       "    }\n",
       "\n",
       "    .dataframe thead th {\n",
       "        text-align: right;\n",
       "    }\n",
       "</style>\n",
       "<table border=\"1\" class=\"dataframe\">\n",
       "  <thead>\n",
       "    <tr style=\"text-align: right;\">\n",
       "      <th></th>\n",
       "      <th>is_fraud</th>\n",
       "      <th>predictions</th>\n",
       "      <th>amount</th>\n",
       "    </tr>\n",
       "  </thead>\n",
       "  <tbody>\n",
       "    <tr>\n",
       "      <th>0</th>\n",
       "      <td>1</td>\n",
       "      <td>0</td>\n",
       "      <td>2688507.920</td>\n",
       "    </tr>\n",
       "  </tbody>\n",
       "</table>\n",
       "</div>"
      ],
      "text/plain": [
       "   is_fraud  predictions      amount\n",
       "0         1            0 2688507.920"
      ]
     },
     "execution_count": 65,
     "metadata": {},
     "output_type": "execute_result"
    }
   ],
   "source": [
    "# The company pays back 100% of the value for the customer in each transaction detected as legitimate,\n",
    "# however the transaction is actually a fraudulent\n",
    "\n",
    "fraud_not_detected = x_test[(x_test['is_fraud'] == 1) & (x_test['predictions'] == 0)]\n",
    "fraud_not_detected_amount = fraud_not_detected[['amount', 'is_fraud', 'predictions']].\\\n",
    "                                                groupby(['is_fraud', 'predictions']).sum().reset_index()\n",
    "fraud_not_detected_amount"
   ]
  },
  {
   "cell_type": "code",
   "execution_count": 67,
   "id": "bf4aab59",
   "metadata": {},
   "outputs": [
    {
     "name": "stdout",
     "output_type": "stream",
     "text": [
      "Detectify will receive $438,086,930.85 due to transactions truly detected as fraud\n",
      "Detectify will pay $2,688,507.92 due to transactions considered legal, but actually fraudulent\n"
     ]
    }
   ],
   "source": [
    "# results\n",
    "print('Detectify will receive ${:,.2f} due to transactions truly detected as fraud'.\\\n",
    "      format(fraud_detected_amount['to_receive'][0]))\n",
    "\n",
    "# print('Detectify will receive ${:,.2f} due to transactions detected as fraud, but actually legal'.\\\n",
    "#       format(fraud_detected_leg_amount['to_receive'][0]))\n",
    "\n",
    "print('Detectify will pay ${:,.2f} due to transactions considered legal, but actually fraudulent'.\\\n",
    "      format(fraud_not_detected_amount['amount'][0]))"
   ]
  },
  {
   "cell_type": "markdown",
   "id": "e4f83c75",
   "metadata": {},
   "source": [
    "## 8.1. Model Performance Results"
   ]
  },
  {
   "cell_type": "code",
   "execution_count": 68,
   "id": "19c07819",
   "metadata": {},
   "outputs": [
    {
     "name": "stdout",
     "output_type": "stream",
     "text": [
      "Model Accuracy : 99.995% \n",
      "Model Precision : 100.000% \n",
      "Model Recall : 99.391% \n"
     ]
    }
   ],
   "source": [
    "print('Model Accuracy : {:,.3f}% '.format(accuracy_score(y_test,yhat_rf)*100))\n",
    "print('Model Precision : {:,.3f}% '.format(precision_score(y_test,yhat_rf)*100))\n",
    "print('Model Recall : {:,.3f}% '.format(recall_score(y_test,yhat_rf)*100))"
   ]
  },
  {
   "cell_type": "markdown",
   "id": "0d54e3bd",
   "metadata": {},
   "source": [
    "The model has a precision of 99.94%. From all transactions classified as fraudulent, only %0.06 were not.\n",
    "\n",
    "The model has a recall of 99.39%. Detectify is able to dectect %99.39 of all fraudulent transactions.\n",
    "\n",
    "The model accuracy is 99.995%. The accuracy is not recommended to be used as a business metric. Even if the model guess that 100% of transactions are legal, it would still be 99.92% accurate. Only 0.08% of all transactions are fraudulent. "
   ]
  },
  {
   "cell_type": "code",
   "execution_count": null,
   "id": "8488a23b",
   "metadata": {},
   "outputs": [],
   "source": []
  },
  {
   "cell_type": "markdown",
   "id": "d5cca7cb",
   "metadata": {},
   "source": [
    "2nd cycle: check how balance error is related to fraud\n",
    "\n",
    "Consider a deeper EDA\n",
    "\n",
    "Cross-Validation: consider doing a cross validation \n",
    "\n",
    "Hyper parameter fine tuning. Ajust the ML model\n",
    "\n",
    "Deploy the ML model to the cloud. So anyone can send data and receive a prediction of fraud through an API request\n"
   ]
  },
  {
   "cell_type": "code",
   "execution_count": null,
   "id": "2fbea6b1",
   "metadata": {},
   "outputs": [],
   "source": []
  }
 ],
 "metadata": {
  "kernelspec": {
   "display_name": "FraudDetection",
   "language": "python",
   "name": "frauddetection"
  },
  "language_info": {
   "codemirror_mode": {
    "name": "ipython",
    "version": 3
   },
   "file_extension": ".py",
   "mimetype": "text/x-python",
   "name": "python",
   "nbconvert_exporter": "python",
   "pygments_lexer": "ipython3",
   "version": "3.9.9"
  }
 },
 "nbformat": 4,
 "nbformat_minor": 5
}
